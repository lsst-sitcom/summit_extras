{
 "cells": [
  {
   "cell_type": "code",
   "execution_count": 2,
   "metadata": {
    "execution": {
     "iopub.execute_input": "2024-09-17T20:55:58.772778Z",
     "iopub.status.busy": "2024-09-17T20:55:58.772497Z",
     "iopub.status.idle": "2024-09-17T20:55:58.950431Z",
     "shell.execute_reply": "2024-09-17T20:55:58.949891Z",
     "shell.execute_reply.started": "2024-09-17T20:55:58.772762Z"
    }
   },
   "outputs": [
    {
     "data": {
      "text/html": [
       "<pre style=\"margin: 0.1em;\n",
       "padding-left: 0.25em;\n",
       "border-left-style: solid;\n",
       "font-family: var(--jp-code-font-family);\n",
       "font-size: var(--jp-code-font-size);\n",
       "line-height: var(--jp-code-line-height);\n",
       "\"><span style=\"color: var(--jp-warn-color2)\">lsst.summit.extras.astrochat</span> <span style=\"color: var(--jp-warn-color0)\">WARNING</span>: OPENAI_API_KEY is already set. Overwriting with key from ~/.openaikey.txt</pre>"
      ],
      "text/plain": [
       "<IPython.core.display.HTML object>"
      ]
     },
     "metadata": {},
     "output_type": "display_data"
    },
    {
     "data": {
      "text/html": [
       "<pre style=\"margin: 0.1em;\n",
       "padding-left: 0.25em;\n",
       "border-left-style: solid;\n",
       "font-family: var(--jp-code-font-family);\n",
       "font-size: var(--jp-code-font-size);\n",
       "line-height: var(--jp-code-line-height);\n",
       "\"><span style=\"color: var(--jp-warn-color2)\">lsst.summit.extras.astrochat</span> <span style=\"color: var(--jp-warn-color0)\">WARNING</span>: Observing metadata at staff-rsp is currently copied by hand by Merlin and will not be updated in realtime</pre>"
      ],
      "text/plain": [
       "<IPython.core.display.HTML object>"
      ]
     },
     "metadata": {},
     "output_type": "display_data"
    },
    {
     "ename": "FileNotFoundError",
     "evalue": "[Errno 2] No such file or directory: 'lsst/summit_extras/python/lsst/summit/extras/sal_interface.yaml'",
     "output_type": "error",
     "traceback": [
      "\u001b[0;31m---------------------------------------------------------------------------\u001b[0m",
      "\u001b[0;31mFileNotFoundError\u001b[0m                         Traceback (most recent call last)",
      "Cell \u001b[0;32mIn[2], line 6\u001b[0m\n\u001b[1;32m      4\u001b[0m dayObs \u001b[38;5;241m=\u001b[39m \u001b[38;5;241m20230131\u001b[39m\n\u001b[1;32m      5\u001b[0m setApiKey()\n\u001b[0;32m----> 6\u001b[0m chat \u001b[38;5;241m=\u001b[39m \u001b[43mAstroChat\u001b[49m\u001b[43m(\u001b[49m\u001b[43mdayObs\u001b[49m\u001b[38;5;241;43m=\u001b[39;49m\u001b[43mdayObs\u001b[49m\u001b[43m,\u001b[49m\u001b[43m \u001b[49m\u001b[43mverbosity\u001b[49m\u001b[38;5;241;43m=\u001b[39;49m\u001b[38;5;124;43m'\u001b[39;49m\u001b[38;5;124;43mALL\u001b[39;49m\u001b[38;5;124;43m'\u001b[39;49m\u001b[43m,\u001b[49m\u001b[43m \u001b[49m\u001b[43mexport\u001b[49m\u001b[38;5;241;43m=\u001b[39;49m\u001b[38;5;28;43;01mTrue\u001b[39;49;00m\u001b[43m)\u001b[49m\n",
      "File \u001b[0;32m~/lsst/summit_extras/python/lsst/summit/extras/astrochat.py:541\u001b[0m, in \u001b[0;36mAstroChat.__init__\u001b[0;34m(self, dayObs, export, temperature, verbosity)\u001b[0m\n\u001b[1;32m    538\u001b[0m \u001b[38;5;28mself\u001b[39m\u001b[38;5;241m.\u001b[39mdata \u001b[38;5;241m=\u001b[39m getObservingData(dayObs)\n\u001b[1;32m    539\u001b[0m \u001b[38;5;28mself\u001b[39m\u001b[38;5;241m.\u001b[39mdate \u001b[38;5;241m=\u001b[39m \u001b[38;5;124mf\u001b[39m\u001b[38;5;124m\"\u001b[39m\u001b[38;5;132;01m{\u001b[39;00m\u001b[38;5;28mstr\u001b[39m(dayObs)[:\u001b[38;5;241m4\u001b[39m]\u001b[38;5;132;01m}\u001b[39;00m\u001b[38;5;124m-\u001b[39m\u001b[38;5;132;01m{\u001b[39;00m\u001b[38;5;28mstr\u001b[39m(dayObs)[\u001b[38;5;241m4\u001b[39m:\u001b[38;5;241m6\u001b[39m]\u001b[38;5;132;01m}\u001b[39;00m\u001b[38;5;124m-\u001b[39m\u001b[38;5;132;01m{\u001b[39;00m\u001b[38;5;28mstr\u001b[39m(dayObs)[\u001b[38;5;241m6\u001b[39m:]\u001b[38;5;132;01m}\u001b[39;00m\u001b[38;5;124m\"\u001b[39m \u001b[38;5;66;03m# Convert 'AAAAMMDD' to 'AAAA-MM-DD'\u001b[39;00m\n\u001b[0;32m--> 541\u001b[0m \u001b[38;5;28mself\u001b[39m\u001b[38;5;241m.\u001b[39myaml_data \u001b[38;5;241m=\u001b[39m \u001b[38;5;28;43mself\u001b[39;49m\u001b[38;5;241;43m.\u001b[39;49m\u001b[43mload_yaml\u001b[49m\u001b[43m(\u001b[49m\u001b[38;5;124;43m'\u001b[39;49m\u001b[38;5;124;43mlsst/summit_extras/python/lsst/summit/extras/sal_interface.yaml\u001b[39;49m\u001b[38;5;124;43m'\u001b[39;49m\u001b[43m)\u001b[49m\n\u001b[1;32m    542\u001b[0m tools_instance \u001b[38;5;241m=\u001b[39m Tools(\u001b[38;5;28mself\u001b[39m\u001b[38;5;241m.\u001b[39m_chat, \u001b[38;5;28mself\u001b[39m\u001b[38;5;241m.\u001b[39myaml_data)\n\u001b[1;32m    544\u001b[0m \u001b[38;5;66;03m# Extract the tools for use in your agent\u001b[39;00m\n",
      "File \u001b[0;32m~/lsst/summit_extras/python/lsst/summit/extras/astrochat.py:468\u001b[0m, in \u001b[0;36mAstroChat.load_yaml\u001b[0;34m(file_path)\u001b[0m\n\u001b[1;32m    466\u001b[0m \u001b[38;5;129m@staticmethod\u001b[39m\n\u001b[1;32m    467\u001b[0m \u001b[38;5;28;01mdef\u001b[39;00m \u001b[38;5;21mload_yaml\u001b[39m(file_path):\n\u001b[0;32m--> 468\u001b[0m     \u001b[38;5;28;01mwith\u001b[39;00m \u001b[38;5;28;43mopen\u001b[39;49m\u001b[43m(\u001b[49m\u001b[43mfile_path\u001b[49m\u001b[43m,\u001b[49m\u001b[43m \u001b[49m\u001b[38;5;124;43m'\u001b[39;49m\u001b[38;5;124;43mr\u001b[39;49m\u001b[38;5;124;43m'\u001b[39;49m\u001b[43m)\u001b[49m \u001b[38;5;28;01mas\u001b[39;00m file:\n\u001b[1;32m    469\u001b[0m         \u001b[38;5;28;01mreturn\u001b[39;00m yaml\u001b[38;5;241m.\u001b[39msafe_load(file)\n",
      "\u001b[0;31mFileNotFoundError\u001b[0m: [Errno 2] No such file or directory: 'lsst/summit_extras/python/lsst/summit/extras/sal_interface.yaml'"
     ]
    }
   ],
   "source": [
    "from lsst.summit.extras.astrochat import setApiKey, AstroChat\n",
    "%matplotlib inline\n",
    "\n",
    "dayObs = 20230131\n",
    "setApiKey()\n",
    "chat = AstroChat(dayObs=dayObs, verbosity='ALL', export=True)"
   ]
  },
  {
   "cell_type": "code",
   "execution_count": null,
   "metadata": {},
   "outputs": [],
   "source": [
    "chat.listDemos()"
   ]
  },
  {
   "cell_type": "code",
   "execution_count": null,
   "metadata": {},
   "outputs": [],
   "source": [
    "chat.runDemo('darktime')"
   ]
  },
  {
   "cell_type": "code",
   "execution_count": null,
   "metadata": {},
   "outputs": [],
   "source": [
    "chat.runDemo('expTime')"
   ]
  },
  {
   "cell_type": "code",
   "execution_count": null,
   "metadata": {},
   "outputs": [],
   "source": [
    "chat.runDemo('obsBreakdown')"
   ]
  },
  {
   "cell_type": "code",
   "execution_count": null,
   "metadata": {},
   "outputs": [],
   "source": []
  }
 ],
 "metadata": {
  "kernelspec": {
   "display_name": "LSST",
   "language": "python",
   "name": "lsst"
  },
  "language_info": {
   "codemirror_mode": {
    "name": "ipython",
    "version": 3
   },
   "file_extension": ".py",
   "mimetype": "text/x-python",
   "name": "python",
   "nbconvert_exporter": "python",
   "pygments_lexer": "ipython3",
   "version": "3.11.9"
  }
 },
 "nbformat": 4,
 "nbformat_minor": 4
}
