{
 "cells": [
  {
   "cell_type": "code",
   "execution_count": 1,
   "id": "dff1e5b0-57ba-41a8-9ce2-bca124ec780c",
   "metadata": {
    "execution": {
     "iopub.execute_input": "2024-09-18T15:58:02.680311Z",
     "iopub.status.busy": "2024-09-18T15:58:02.680071Z",
     "iopub.status.idle": "2024-09-18T15:58:09.205152Z",
     "shell.execute_reply": "2024-09-18T15:58:09.204644Z",
     "shell.execute_reply.started": "2024-09-18T15:58:02.680294Z"
    }
   },
   "outputs": [],
   "source": [
    "import yaml\n",
    "\n",
    "# Load YAML file\n",
    "def load_yaml(file_path):\n",
    "    with open(file_path, 'r') as file:\n",
    "        data = yaml.safe_load(file)\n",
    "    return data\n",
    "\n",
    "# Extract meaningful text content from the YAML data\n",
    "def extract_text_from_yaml(yaml_data):\n",
    "    texts = []\n",
    "    for key, value in yaml_data.items():\n",
    "        # Assuming `value` contains the textual data you want to index.\n",
    "        if isinstance(value, dict):\n",
    "            # You can modify this depending on the structure of your YAML file\n",
    "            text_content = ' '.join(str(v) for v in value.values())\n",
    "        else:\n",
    "            text_content = str(value)\n",
    "        texts.append(text_content)\n",
    "    return texts\n",
    "\n",
    "yaml_data = load_yaml('sal_interface.yaml')\n",
    "text_entries = extract_text_from_yaml(yaml_data)"
   ]
  },
  {
   "cell_type": "code",
   "execution_count": 2,
   "id": "c090c90c-7f2c-4c30-9288-d4638fca7759",
   "metadata": {
    "execution": {
     "iopub.execute_input": "2024-09-18T15:58:22.379165Z",
     "iopub.status.busy": "2024-09-18T15:58:22.378960Z",
     "iopub.status.idle": "2024-09-18T15:58:22.934333Z",
     "shell.execute_reply": "2024-09-18T15:58:22.933706Z",
     "shell.execute_reply.started": "2024-09-18T15:58:22.379150Z"
    }
   },
   "outputs": [
    {
     "ename": "APIRemovedInV1",
     "evalue": "\n\nYou tried to access openai.Embedding, but this is no longer supported in openai>=1.0.0 - see the README at https://github.com/openai/openai-python for the API.\n\nYou can run `openai migrate` to automatically upgrade your codebase to use the 1.0.0 interface. \n\nAlternatively, you can pin your installation to the old version, e.g. `pip install openai==0.28`\n\nA detailed migration guide is available here: https://github.com/openai/openai-python/discussions/742\n",
     "output_type": "error",
     "traceback": [
      "\u001b[0;31m---------------------------------------------------------------------------\u001b[0m",
      "\u001b[0;31mAPIRemovedInV1\u001b[0m                            Traceback (most recent call last)",
      "Cell \u001b[0;32mIn[2], line 14\u001b[0m\n\u001b[1;32m     11\u001b[0m         embeddings\u001b[38;5;241m.\u001b[39mappend(response[\u001b[38;5;124m'\u001b[39m\u001b[38;5;124mdata\u001b[39m\u001b[38;5;124m'\u001b[39m][\u001b[38;5;241m0\u001b[39m][\u001b[38;5;124m'\u001b[39m\u001b[38;5;124membedding\u001b[39m\u001b[38;5;124m'\u001b[39m])\n\u001b[1;32m     12\u001b[0m     \u001b[38;5;28;01mreturn\u001b[39;00m embeddings\n\u001b[0;32m---> 14\u001b[0m embeddings \u001b[38;5;241m=\u001b[39m \u001b[43mgenerate_embeddings\u001b[49m\u001b[43m(\u001b[49m\u001b[43mtext_entries\u001b[49m\u001b[43m)\u001b[49m\n",
      "Cell \u001b[0;32mIn[2], line 7\u001b[0m, in \u001b[0;36mgenerate_embeddings\u001b[0;34m(texts)\u001b[0m\n\u001b[1;32m      5\u001b[0m embeddings \u001b[38;5;241m=\u001b[39m []\n\u001b[1;32m      6\u001b[0m \u001b[38;5;28;01mfor\u001b[39;00m text \u001b[38;5;129;01min\u001b[39;00m texts:\n\u001b[0;32m----> 7\u001b[0m     response \u001b[38;5;241m=\u001b[39m \u001b[43mopenai\u001b[49m\u001b[38;5;241;43m.\u001b[39;49m\u001b[43mEmbedding\u001b[49m\u001b[38;5;241;43m.\u001b[39;49m\u001b[43mcreate\u001b[49m\u001b[43m(\u001b[49m\n\u001b[1;32m      8\u001b[0m \u001b[43m        \u001b[49m\u001b[38;5;28;43minput\u001b[39;49m\u001b[38;5;241;43m=\u001b[39;49m\u001b[43mtext\u001b[49m\u001b[43m,\u001b[49m\n\u001b[1;32m      9\u001b[0m \u001b[43m        \u001b[49m\u001b[43mengine\u001b[49m\u001b[38;5;241;43m=\u001b[39;49m\u001b[38;5;124;43m\"\u001b[39;49m\u001b[38;5;124;43mtext-embedding-ada-002\u001b[39;49m\u001b[38;5;124;43m\"\u001b[39;49m\n\u001b[1;32m     10\u001b[0m \u001b[43m    \u001b[49m\u001b[43m)\u001b[49m\n\u001b[1;32m     11\u001b[0m     embeddings\u001b[38;5;241m.\u001b[39mappend(response[\u001b[38;5;124m'\u001b[39m\u001b[38;5;124mdata\u001b[39m\u001b[38;5;124m'\u001b[39m][\u001b[38;5;241m0\u001b[39m][\u001b[38;5;124m'\u001b[39m\u001b[38;5;124membedding\u001b[39m\u001b[38;5;124m'\u001b[39m])\n\u001b[1;32m     12\u001b[0m \u001b[38;5;28;01mreturn\u001b[39;00m embeddings\n",
      "File \u001b[0;32m~/.local/lib/python3.11/site-packages/openai/lib/_old_api.py:39\u001b[0m, in \u001b[0;36mAPIRemovedInV1Proxy.__call__\u001b[0;34m(self, *_args, **_kwargs)\u001b[0m\n\u001b[1;32m     38\u001b[0m \u001b[38;5;28;01mdef\u001b[39;00m \u001b[38;5;21m__call__\u001b[39m(\u001b[38;5;28mself\u001b[39m, \u001b[38;5;241m*\u001b[39m_args: Any, \u001b[38;5;241m*\u001b[39m\u001b[38;5;241m*\u001b[39m_kwargs: Any) \u001b[38;5;241m-\u001b[39m\u001b[38;5;241m>\u001b[39m Any:\n\u001b[0;32m---> 39\u001b[0m     \u001b[38;5;28;01mraise\u001b[39;00m APIRemovedInV1(symbol\u001b[38;5;241m=\u001b[39m\u001b[38;5;28mself\u001b[39m\u001b[38;5;241m.\u001b[39m_symbol)\n",
      "\u001b[0;31mAPIRemovedInV1\u001b[0m: \n\nYou tried to access openai.Embedding, but this is no longer supported in openai>=1.0.0 - see the README at https://github.com/openai/openai-python for the API.\n\nYou can run `openai migrate` to automatically upgrade your codebase to use the 1.0.0 interface. \n\nAlternatively, you can pin your installation to the old version, e.g. `pip install openai==0.28`\n\nA detailed migration guide is available here: https://github.com/openai/openai-python/discussions/742\n"
     ]
    }
   ],
   "source": [
    "import openai\n",
    "\n",
    "# Function to generate embeddings using OpenAI API\n",
    "def generate_embeddings(texts):\n",
    "    embeddings = []\n",
    "    for text in texts:\n",
    "        response = openai.Embedding.create(\n",
    "            input=text,\n",
    "            engine=\"text-embedding-ada-002\"\n",
    "        )\n",
    "        embeddings.append(response['data'][0]['embedding'])\n",
    "    return embeddings\n",
    "\n",
    "embeddings = generate_embeddings(text_entries)"
   ]
  },
  {
   "cell_type": "code",
   "execution_count": null,
   "id": "d833d0ac-c272-4e7c-b0da-90c280de4ff2",
   "metadata": {},
   "outputs": [],
   "source": []
  }
 ],
 "metadata": {
  "kernelspec": {
   "display_name": "LSST",
   "language": "python",
   "name": "lsst"
  },
  "language_info": {
   "codemirror_mode": {
    "name": "ipython",
    "version": 3
   },
   "file_extension": ".py",
   "mimetype": "text/x-python",
   "name": "python",
   "nbconvert_exporter": "python",
   "pygments_lexer": "ipython3",
   "version": "3.11.9"
  }
 },
 "nbformat": 4,
 "nbformat_minor": 5
}
