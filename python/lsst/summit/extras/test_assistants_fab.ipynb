{
 "cells": [
  {
   "cell_type": "code",
   "execution_count": 15,
   "metadata": {
    "execution": {
     "iopub.execute_input": "2024-06-07T13:51:15.875613Z",
     "iopub.status.busy": "2024-06-07T13:51:15.875427Z",
     "iopub.status.idle": "2024-06-07T13:51:15.878296Z",
     "shell.execute_reply": "2024-06-07T13:51:15.877955Z",
     "shell.execute_reply.started": "2024-06-07T13:51:15.875600Z"
    }
   },
   "outputs": [],
   "source": [
    "import logging\n",
    "import os\n",
    "import pandas as pd\n",
    "import re\n",
    "import warnings\n",
    "import inspect\n",
    "import openai\n",
    "from openai import OpenAI\n",
    "\n",
    "from lsst.summit.utils.utils import getCurrentDayObs_int, getSite\n",
    "from lsst.utils.iteration import ensure_iterable\n",
    "from IPython.display import display, Markdown"
   ]
  },
  {
   "cell_type": "code",
   "execution_count": 10,
   "metadata": {
    "execution": {
     "iopub.execute_input": "2024-06-07T13:47:43.341123Z",
     "iopub.status.busy": "2024-06-07T13:47:43.340739Z",
     "iopub.status.idle": "2024-06-07T13:47:43.343271Z",
     "shell.execute_reply": "2024-06-07T13:47:43.342939Z",
     "shell.execute_reply.started": "2024-06-07T13:47:43.341108Z"
    }
   },
   "outputs": [],
   "source": [
    "import langchain  # noqa: E402\n",
    "import langchain_community\n",
    "from langchain_openai import ChatOpenAI\n",
    "from langchain.callbacks import get_openai_callback  # noqa: E402\n",
    "from langchain_experimental.agents import create_pandas_dataframe_agent"
   ]
  },
  {
   "cell_type": "code",
   "execution_count": 25,
   "metadata": {
    "execution": {
     "iopub.execute_input": "2024-06-07T14:07:38.532187Z",
     "iopub.status.busy": "2024-06-07T14:07:38.531722Z",
     "iopub.status.idle": "2024-06-07T14:07:38.534968Z",
     "shell.execute_reply": "2024-06-07T14:07:38.534554Z",
     "shell.execute_reply.started": "2024-06-07T14:07:38.532174Z"
    }
   },
   "outputs": [],
   "source": [
    "def setApiKey(filename=\"~/.openaikey.txt\"):\n",
    "    \"\"\"Set the OpenAI API key from a file.\n",
    "\n",
    "    Set the OpenAI API key from a file. The file should contain a single line\n",
    "    with the API key. The file name can be specified as an argument. If the\n",
    "    API key is already set, it will be overwritten, with a warning issues.\n",
    "\n",
    "    Parameters\n",
    "    ----------\n",
    "    filename : `str`\n",
    "        Name of the file containing the API key.\n",
    "    \"\"\"\n",
    "\n",
    "    currentKey = os.getenv('OPENAI_API_KEY')\n",
    "\n",
    "    filename = os.path.expanduser(filename)\n",
    "    with open(filename, 'r') as file:\n",
    "        apiKey = file.readline().strip()\n",
    "\n",
    "    openai.api_key = apiKey\n",
    "    os.environ[\"OPENAI_API_KEY\"] = apiKey"
   ]
  },
  {
   "cell_type": "code",
   "execution_count": 21,
   "metadata": {
    "execution": {
     "iopub.execute_input": "2024-06-07T14:04:20.039890Z",
     "iopub.status.busy": "2024-06-07T14:04:20.039669Z",
     "iopub.status.idle": "2024-06-07T14:04:20.043722Z",
     "shell.execute_reply": "2024-06-07T14:04:20.043327Z",
     "shell.execute_reply.started": "2024-06-07T14:04:20.039875Z"
    }
   },
   "outputs": [],
   "source": [
    "def getObservingData(dayObs=None):\n",
    "    \"\"\"Get the observing metadata for the current or a past day.\n",
    "    \"\"\"\n",
    "    currentDayObs = getCurrentDayObs_int()\n",
    "    if dayObs is None:\n",
    "        dayObs = currentDayObs\n",
    "    isCurrent = dayObs == currentDayObs\n",
    "\n",
    "    site = getSite()\n",
    "\n",
    "    filename = None\n",
    "    if site == 'summit':\n",
    "        filename = f\"/project/rubintv/sidecar_metadata/dayObs_{dayObs}.json\"\n",
    "    elif site in ['rubin-devl']:\n",
    "        filename = f\"/sdf/home/m/mfl/u/rubinTvDataProducts/sidecar_metadata/dayObs_{dayObs}.json\"\n",
    "    elif site in ['staff-rsp']:\n",
    "        filename = f\"/home/m/mfl/u/rubinTvDataProducts/sidecar_metadata/dayObs_{dayObs}.json\"\n",
    "    else:\n",
    "        raise RuntimeError(f\"Observing metadata not available for site {site}\")\n",
    "\n",
    "    # check the file exists, and raise if not\n",
    "    if not os.path.exists(filename):\n",
    "        return pd.DataFrame()\n",
    "\n",
    "    table = pd.read_json(filename).T\n",
    "    table = table.sort_index()\n",
    "\n",
    "    # remove all the columns which start with a leading underscore, as these\n",
    "    # are used by the backend to signal how specific cells should be colored\n",
    "    # on RubinTV, and for nothing else.\n",
    "    table = table.drop([col for col in table.columns if col.startswith('_')], axis=1)\n",
    "\n",
    "    return table"
   ]
  },
  {
   "cell_type": "code",
   "execution_count": 29,
   "metadata": {
    "execution": {
     "iopub.execute_input": "2024-06-07T14:12:37.585437Z",
     "iopub.status.busy": "2024-06-07T14:12:37.585026Z",
     "iopub.status.idle": "2024-06-07T14:12:37.691709Z",
     "shell.execute_reply": "2024-06-07T14:12:37.691329Z",
     "shell.execute_reply.started": "2024-06-07T14:12:37.585424Z"
    }
   },
   "outputs": [],
   "source": [
    "setApiKey()\n",
    "dayObs = 20230131\n",
    "data = getObservingData(dayObs)"
   ]
  },
  {
   "cell_type": "code",
   "execution_count": 30,
   "metadata": {
    "execution": {
     "iopub.execute_input": "2024-06-07T14:12:40.233203Z",
     "iopub.status.busy": "2024-06-07T14:12:40.232840Z",
     "iopub.status.idle": "2024-06-07T14:12:40.434005Z",
     "shell.execute_reply": "2024-06-07T14:12:40.433507Z",
     "shell.execute_reply.started": "2024-06-07T14:12:40.233187Z"
    }
   },
   "outputs": [],
   "source": [
    "client = OpenAI()\n",
    "  \n",
    "assistant = client.beta.assistants.create(\n",
    "    name=\"Astronomy Assistant\",\n",
    "    description=\"Assists with fetching and analyzing observational data for astronomy.\",\n",
    "    instructions=\"Help with astronomy calculations and data formatting.\",\n",
    "    tools=[{\"type\": \"code_interpreter\"}],\n",
    "    model=\"gpt-4o\",\n",
    ")"
   ]
  },
  {
   "cell_type": "code",
   "execution_count": 31,
   "metadata": {
    "execution": {
     "iopub.execute_input": "2024-06-07T14:12:43.359276Z",
     "iopub.status.busy": "2024-06-07T14:12:43.359059Z",
     "iopub.status.idle": "2024-06-07T14:12:43.710252Z",
     "shell.execute_reply": "2024-06-07T14:12:43.709835Z",
     "shell.execute_reply.started": "2024-06-07T14:12:43.359263Z"
    }
   },
   "outputs": [],
   "source": [
    "thread = client.beta.threads.create()"
   ]
  },
  {
   "cell_type": "code",
   "execution_count": 35,
   "metadata": {
    "execution": {
     "iopub.execute_input": "2024-06-07T14:13:35.042199Z",
     "iopub.status.busy": "2024-06-07T14:13:35.041700Z",
     "iopub.status.idle": "2024-06-07T14:13:35.273411Z",
     "shell.execute_reply": "2024-06-07T14:13:35.273014Z",
     "shell.execute_reply.started": "2024-06-07T14:13:35.042183Z"
    }
   },
   "outputs": [],
   "source": [
    "message = client.beta.threads.messages.create(\n",
    "    thread_id=thread.id,\n",
    "    role=\"user\",\n",
    "    content=f\"What is the total darktime for Image type = bias in {data}\"\n",
    ")"
   ]
  },
  {
   "cell_type": "code",
   "execution_count": 36,
   "metadata": {
    "execution": {
     "iopub.execute_input": "2024-06-07T14:14:16.856346Z",
     "iopub.status.busy": "2024-06-07T14:14:16.856032Z",
     "iopub.status.idle": "2024-06-07T14:14:37.024900Z",
     "shell.execute_reply": "2024-06-07T14:14:37.024495Z",
     "shell.execute_reply.started": "2024-06-07T14:14:16.856331Z"
    }
   },
   "outputs": [],
   "source": [
    "run = client.beta.threads.runs.create_and_poll(\n",
    "  thread_id=thread.id,\n",
    "  assistant_id=assistant.id,\n",
    "  instructions=\"Provide steps.\"\n",
    ")"
   ]
  },
  {
   "cell_type": "code",
   "execution_count": 38,
   "metadata": {
    "execution": {
     "iopub.execute_input": "2024-06-07T14:15:30.698410Z",
     "iopub.status.busy": "2024-06-07T14:15:30.698078Z",
     "iopub.status.idle": "2024-06-07T14:15:30.934290Z",
     "shell.execute_reply": "2024-06-07T14:15:30.933771Z",
     "shell.execute_reply.started": "2024-06-07T14:15:30.698393Z"
    }
   },
   "outputs": [
    {
     "name": "stdout",
     "output_type": "stream",
     "text": [
      "SyncCursorPage[Message](data=[Message(id='msg_w0oUbEzex3jeHORAuuNrSTTJ', assistant_id='asst_pfdWkQWNgje3wTRXcxxcos4c', attachments=[], completed_at=None, content=[TextContentBlock(text=Text(annotations=[], value='The total dark time for images of type \"bias\" is 0.015542 seconds.'), type='text')], created_at=1717769674, incomplete_at=None, incomplete_details=None, metadata={}, object='thread.message', role='assistant', run_id='run_3OPhrZc9VhhFTrWb1rPKPjAx', status=None, thread_id='thread_eio3cZBPWeHpkQZ4nli6NHtn'), Message(id='msg_5IDsyGLxwIMwf9jO26gkLoAl', assistant_id='asst_pfdWkQWNgje3wTRXcxxcos4c', attachments=[], completed_at=None, content=[TextContentBlock(text=Text(annotations=[], value='To find the total dark time for images of type \"bias,\" we need to filter the data for rows where the \"Image type\" is \"bias\" and then sum the \"Darktime\" column for these filtered rows. Here are the steps:\\n\\n1. **Filter Rows**: Select rows where the \"Image type\" is \"bias\".\\n2. **Sum Darktime**: Calculate the sum of the \"Darktime\" column for the filtered rows.\\n\\nLet\\'s execute these steps.'), type='text')], created_at=1717769658, incomplete_at=None, incomplete_details=None, metadata={}, object='thread.message', role='assistant', run_id='run_3OPhrZc9VhhFTrWb1rPKPjAx', status=None, thread_id='thread_eio3cZBPWeHpkQZ4nli6NHtn'), Message(id='msg_N8EclQilDu4qDWgvlFQDJFSV', assistant_id=None, attachments=[], completed_at=None, content=[TextContentBlock(text=Text(annotations=[], value='What is the total darktime for Image type = bias in        Exposure id Exposure time  Darktime Image type Observation reason  \\\\\\n1    2023013100001           0.0  0.007812       bias               bias   \\n2    2023013100002           2.0    2.2394    engtest            engtest   \\n3    2023013100003           2.0   2.22854    engtest            engtest   \\n4    2023013100004           2.0    2.2443    engtest            engtest   \\n5    2023013100005           0.0   0.00773       bias               bias   \\n..             ...           ...       ...        ...                ...   \\n791  2023013100791          30.0   30.2382    science             object   \\n792  2023013100792          30.0   30.2433    science             object   \\n793  2023013100793          30.0   30.2225    science             object   \\n794  2023013100794          30.0   30.2447    science             object   \\n795  2023013100795          30.0   30.2363    science             object   \\n\\n       dayObs seqNum          Group id              Target Science program  \\\\\\n1    20230131      1  2551258700880000       Park position         unknown   \\n2    20230131      2  2551258771010000       Park position         unknown   \\n3    20230131      3  2551264786350000  DaytimeCheckout001         unknown   \\n4    20230131      4  2551266492870000  DaytimeCheckout002         unknown   \\n5    20230131      5  2551276160590000  FlatField position         unknown   \\n..        ...    ...               ...                 ...             ...   \\n791  20230131    791  2551713845560000            HD185975            spec   \\n792  20230131    792  2551713845560000            HD185975            spec   \\n793  20230131    793  2551713845560000            HD185975            spec   \\n794  20230131    794  2551713845560000            HD185975            spec   \\n795  20230131    795  2551713845560000            HD185975            spec   \\n\\n     ... PSF FWHM PSF e1 PSF e2 Sky mean Sky RMS Variance plane mean  \\\\\\n1    ...      NaN    NaN    NaN      NaN     NaN                 NaN   \\n2    ...      NaN    NaN    NaN      NaN     NaN                 NaN   \\n3    ...      NaN    NaN    NaN      NaN     NaN                 NaN   \\n4    ...      NaN    NaN    NaN      NaN     NaN                 NaN   \\n5    ...      NaN    NaN    NaN      NaN     NaN                 NaN   \\n..   ...      ...    ...    ...      ...     ...                 ...   \\n791  ...      NaN    NaN    NaN      NaN     NaN                 NaN   \\n792  ...      NaN    NaN    NaN      NaN     NaN                 NaN   \\n793  ...      NaN    NaN    NaN      NaN     NaN                 NaN   \\n794  ...      NaN    NaN    NaN      NaN     NaN                 NaN   \\n795  ...      NaN    NaN    NaN      NaN     NaN                 NaN   \\n\\n    PSF star count Astrometric bias Astrometric scatter Zeropoint  \\n1              NaN              NaN                 NaN       NaN  \\n2              NaN              NaN                 NaN       NaN  \\n3              NaN              NaN                 NaN       NaN  \\n4              NaN              NaN                 NaN       NaN  \\n5              NaN              NaN                 NaN       NaN  \\n..             ...              ...                 ...       ...  \\n791            NaN              NaN                 NaN       NaN  \\n792            NaN              NaN                 NaN       NaN  \\n793            NaN              NaN                 NaN       NaN  \\n794            NaN              NaN                 NaN       NaN  \\n795            NaN              NaN                 NaN       NaN  \\n\\n[795 rows x 41 columns]'), type='text')], created_at=1717769615, incomplete_at=None, incomplete_details=None, metadata={}, object='thread.message', role='user', run_id=None, status=None, thread_id='thread_eio3cZBPWeHpkQZ4nli6NHtn')], object='list', first_id='msg_w0oUbEzex3jeHORAuuNrSTTJ', last_id='msg_N8EclQilDu4qDWgvlFQDJFSV', has_more=False)\n"
     ]
    }
   ],
   "source": [
    "if run.status == 'completed': \n",
    "  messages = client.beta.threads.messages.list(\n",
    "    thread_id=thread.id\n",
    "  )\n",
    "  print(messages)\n",
    "else:\n",
    "  print(run.status)"
   ]
  },
  {
   "cell_type": "code",
   "execution_count": null,
   "metadata": {},
   "outputs": [],
   "source": []
  }
 ],
 "metadata": {
  "kernelspec": {
   "display_name": "LSST",
   "language": "python",
   "name": "lsst"
  },
  "language_info": {
   "codemirror_mode": {
    "name": "ipython",
    "version": 3
   },
   "file_extension": ".py",
   "mimetype": "text/x-python",
   "name": "python",
   "nbconvert_exporter": "python",
   "pygments_lexer": "ipython3",
   "version": "3.11.7"
  }
 },
 "nbformat": 4,
 "nbformat_minor": 4
}
