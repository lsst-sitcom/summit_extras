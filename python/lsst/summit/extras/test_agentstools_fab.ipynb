{
 "cells": [
  {
   "cell_type": "markdown",
   "id": "3a345e07-8c59-4e9a-90d6-412f821fc37e",
   "metadata": {},
   "source": [
    "Below is it a successfull atempt of building a customized tool to be added to a langchain agent in order to implement a simple calculator"
   ]
  },
  {
   "cell_type": "code",
   "execution_count": 1,
   "id": "fd3dba86-793e-4f4a-9468-997f385a4fd1",
   "metadata": {
    "execution": {
     "iopub.execute_input": "2024-07-09T20:31:59.258754Z",
     "iopub.status.busy": "2024-07-09T20:31:59.258493Z",
     "iopub.status.idle": "2024-07-09T20:32:00.279942Z",
     "shell.execute_reply": "2024-07-09T20:32:00.279542Z",
     "shell.execute_reply.started": "2024-07-09T20:31:59.258740Z"
    }
   },
   "outputs": [],
   "source": [
    "from langchain_openai import ChatOpenAI\n",
    "from langchain.tools import BaseTool, StructuredTool, tool\n",
    "from langchain.agents import AgentExecutor, create_openai_tools_agent\n",
    "from langchain_core.prompts import ChatPromptTemplate, MessagesPlaceholder\n",
    "import openai\n",
    "import logging\n",
    "import os"
   ]
  },
  {
   "cell_type": "code",
   "execution_count": 2,
   "id": "d81117a3-7fbf-4f16-aed1-95f89a2de96b",
   "metadata": {
    "execution": {
     "iopub.execute_input": "2024-07-09T20:32:03.272626Z",
     "iopub.status.busy": "2024-07-09T20:32:03.272319Z",
     "iopub.status.idle": "2024-07-09T20:32:03.281165Z",
     "shell.execute_reply": "2024-07-09T20:32:03.280851Z",
     "shell.execute_reply.started": "2024-07-09T20:32:03.272609Z"
    }
   },
   "outputs": [],
   "source": [
    "@tool\n",
    "def add(a: int, b: int) -> int:\n",
    "    \"\"\"Adds two numbers together.\"\"\"\n",
    "    return a + b\n",
    "\n",
    "\n",
    "@tool\n",
    "def multiply(a: int, b: int) -> int:\n",
    "    \"\"\"Multiply two numbers.\"\"\"\n",
    "    return a * b\n",
    "\n",
    "\n",
    "@tool\n",
    "def square(a) -> int:\n",
    "    \"\"\"Calculates the square of a number.\"\"\"\n",
    "    a = int(a)\n",
    "    return a * a\n",
    "\n",
    "\n",
    "toolkit = [add, multiply, square]"
   ]
  },
  {
   "cell_type": "code",
   "execution_count": 6,
   "id": "6f6a752c-bc59-4012-b96a-1e0950d7e1fb",
   "metadata": {
    "execution": {
     "iopub.execute_input": "2024-07-09T20:32:38.907174Z",
     "iopub.status.busy": "2024-07-09T20:32:38.906891Z",
     "iopub.status.idle": "2024-07-09T20:32:38.910266Z",
     "shell.execute_reply": "2024-07-09T20:32:38.909964Z",
     "shell.execute_reply.started": "2024-07-09T20:32:38.907161Z"
    }
   },
   "outputs": [],
   "source": [
    "LOG = logging.getLogger(__name__)\n",
    "\n",
    "def setApiKey(filename=\"~/.openaikey.txt\"):\n",
    "    \"\"\"Set the OpenAI API key from a file.\n",
    "\n",
    "    Set the OpenAI API key from a file. The file should contain a single line\n",
    "    with the API key. The file name can be specified as an argument. If the\n",
    "    API key is already set, it will be overwritten, with a warning issues.\n",
    "\n",
    "    Parameters\n",
    "    ----------\n",
    "    filename : `str`\n",
    "        Name of the file containing the API key.\n",
    "    \"\"\"\n",
    "\n",
    "    currentKey = os.getenv('OPENAI_API_KEY')\n",
    "    if currentKey:\n",
    "        LOG.warning(f\"OPENAI_API_KEY is already set. Overwriting with key from {filename}\")\n",
    "\n",
    "    filename = os.path.expanduser(filename)\n",
    "    with open(filename, 'r') as file:\n",
    "        apiKey = file.readline().strip()\n",
    "\n",
    "    openai.api_key = apiKey\n",
    "    os.environ[\"OPENAI_API_KEY\"] = apiKey"
   ]
  },
  {
   "cell_type": "code",
   "execution_count": 7,
   "id": "97040617-49dd-4622-8a1a-6e3f6f09ceae",
   "metadata": {
    "execution": {
     "iopub.execute_input": "2024-07-09T20:32:42.224032Z",
     "iopub.status.busy": "2024-07-09T20:32:42.223770Z",
     "iopub.status.idle": "2024-07-09T20:32:42.275851Z",
     "shell.execute_reply": "2024-07-09T20:32:42.275492Z",
     "shell.execute_reply.started": "2024-07-09T20:32:42.224020Z"
    }
   },
   "outputs": [],
   "source": [
    "setApiKey()\n",
    "\n",
    "llm = ChatOpenAI(model=\"gpt-3.5-turbo-0125\", temperature=0)"
   ]
  },
  {
   "cell_type": "code",
   "execution_count": 8,
   "id": "0855d794-c043-4520-b3e9-c3c9ca6e740f",
   "metadata": {
    "execution": {
     "iopub.execute_input": "2024-07-09T20:32:45.310222Z",
     "iopub.status.busy": "2024-07-09T20:32:45.309946Z",
     "iopub.status.idle": "2024-07-09T20:32:45.312929Z",
     "shell.execute_reply": "2024-07-09T20:32:45.312588Z",
     "shell.execute_reply.started": "2024-07-09T20:32:45.310208Z"
    }
   },
   "outputs": [],
   "source": [
    "prompt = ChatPromptTemplate.from_messages(\n",
    "    [\n",
    "        (\"system\", \"\"\"\n",
    "          You are a mathematical assistant. Use your tools to answer questions.\n",
    "          If you do not have a tool to answer the question, say so. \n",
    "        \n",
    "          Return only the answers. e.g\n",
    "          Human: What is 1 + 1?\n",
    "          AI: 2\n",
    "          \"\"\"),\n",
    "        MessagesPlaceholder(\"chat_history\", optional=True),\n",
    "        (\"human\", \"{input}\"),\n",
    "        MessagesPlaceholder(\"agent_scratchpad\"),\n",
    "    ]\n",
    ")"
   ]
  },
  {
   "cell_type": "code",
   "execution_count": 9,
   "id": "fe319998-8bb9-443b-8bf7-367a60c498fb",
   "metadata": {
    "execution": {
     "iopub.execute_input": "2024-07-09T20:32:52.759090Z",
     "iopub.status.busy": "2024-07-09T20:32:52.758818Z",
     "iopub.status.idle": "2024-07-09T20:32:52.762202Z",
     "shell.execute_reply": "2024-07-09T20:32:52.761912Z",
     "shell.execute_reply.started": "2024-07-09T20:32:52.759078Z"
    }
   },
   "outputs": [],
   "source": [
    "agent = create_openai_tools_agent(llm, toolkit, prompt)\n",
    "agent_executor = AgentExecutor(agent=agent, tools=toolkit, verbose=True)"
   ]
  },
  {
   "cell_type": "code",
   "execution_count": 10,
   "id": "ac544cee-f7b1-4fb7-829f-d2c68eb3694e",
   "metadata": {
    "execution": {
     "iopub.execute_input": "2024-07-09T20:32:56.646128Z",
     "iopub.status.busy": "2024-07-09T20:32:56.645949Z",
     "iopub.status.idle": "2024-07-09T20:32:58.082719Z",
     "shell.execute_reply": "2024-07-09T20:32:58.082284Z",
     "shell.execute_reply.started": "2024-07-09T20:32:56.646116Z"
    }
   },
   "outputs": [
    {
     "name": "stdout",
     "output_type": "stream",
     "text": [
      "\n",
      "\n",
      "\u001b[1m> Entering new AgentExecutor chain...\u001b[0m\n",
      "\u001b[32;1m\u001b[1;3m\n",
      "Invoking: `add` with `{'a': 1, 'b': 3}`\n",
      "\n",
      "\n",
      "\u001b[0m\u001b[36;1m\u001b[1;3m4\u001b[0m\u001b[32;1m\u001b[1;3m4\u001b[0m\n",
      "\n",
      "\u001b[1m> Finished chain.\u001b[0m\n",
      "4\n"
     ]
    }
   ],
   "source": [
    "result = agent_executor.invoke({\"input\": \"what is 1 + 3?\"})\n",
    "print(result['output'])"
   ]
  },
  {
   "cell_type": "markdown",
   "id": "fcd5b3a0-8d9b-4470-8096-e76b11283fb0",
   "metadata": {},
   "source": [
    "Below there is a request to get wind data for a given date. This is related to the tool to be implemented for astrochat."
   ]
  },
  {
   "cell_type": "code",
   "execution_count": 9,
   "id": "4db4bd08-c21e-4806-ba2a-b1e05643bcf5",
   "metadata": {
    "execution": {
     "iopub.execute_input": "2024-08-21T14:52:57.162735Z",
     "iopub.status.busy": "2024-08-21T14:52:57.162266Z",
     "iopub.status.idle": "2024-08-21T14:52:59.415358Z",
     "shell.execute_reply": "2024-08-21T14:52:59.415004Z",
     "shell.execute_reply.started": "2024-08-21T14:52:57.162715Z"
    }
   },
   "outputs": [],
   "source": [
    "from lsst.summit.utils.efdUtils import getEfdData, makeEfdClient\n",
    "from lsst.daf.butler import Butler\n",
    "\n",
    "import asyncio\n",
    "await asyncio.sleep(1)\n",
    "import nest_asyncio\n",
    "nest_asyncio.apply()\n",
    "\n",
    "client = makeEfdClient()\n",
    "butler = Butler('embargo_or4', instrument='LSSTComCamSim', collections='LSSTComCamSim/raw/all')\n",
    "\n",
    "topic = 'lsst.sal.ESS.airFlow'\n",
    "dayObs = 20240625\n",
    "seqNum = 123\n",
    "\n",
    "where = f\"exposure.day_obs={dayObs} AND exposure.seq_num={seqNum} AND instrument='LSSTComCamSim'\"\n",
    "records = list(butler.registry.queryDimensionRecords('exposure', where=where))\n",
    "record = records[0]\n",
    "\n",
    "windData = getEfdData(client, topic, expRecord=record)"
   ]
  },
  {
   "cell_type": "code",
   "execution_count": 14,
   "id": "160b4ae0-0a26-46af-bbe1-1e1a6d735e1d",
   "metadata": {
    "execution": {
     "iopub.execute_input": "2024-08-21T14:56:39.867301Z",
     "iopub.status.busy": "2024-08-21T14:56:39.866945Z",
     "iopub.status.idle": "2024-08-21T14:56:39.875883Z",
     "shell.execute_reply": "2024-08-21T14:56:39.875514Z",
     "shell.execute_reply.started": "2024-08-21T14:56:39.867285Z"
    }
   },
   "outputs": [
    {
     "name": "stdout",
     "output_type": "stream",
     "text": [
      "<class 'pandas.core.frame.DataFrame'>\n",
      "['direction', 'directionStdDev', 'location', 'maxSpeed', 'private_efdStamp', 'private_identity', 'private_kafkaStamp', 'private_origin', 'private_rcvStamp', 'private_revCode', 'private_seqNum', 'private_sndStamp', 'salIndex', 'sensorName', 'speed', 'speedStdDev', 'timestamp']\n",
      "                                   direction  directionStdDev       location  \\\n",
      "2024-06-26 00:56:16.214350+00:00   24.679869         2.237279  Weather tower   \n",
      "2024-06-26 00:56:17.494557+00:00   30.289766         1.928553  Weather tower   \n",
      "2024-06-26 00:56:18.774672+00:00   34.180000         0.203961  Weather tower   \n",
      "2024-06-26 00:56:20.054118+00:00   33.710106         1.169140  Weather tower   \n",
      "2024-06-26 00:56:21.175032+00:00  165.620972         7.982798        AT Dome   \n",
      "2024-06-26 00:56:21.334244+00:00   29.139891         1.448260  Weather tower   \n",
      "2024-06-26 00:56:22.614693+00:00   33.705002         0.233398  Weather tower   \n",
      "2024-06-26 00:56:23.893923+00:00   32.215073         1.525274  Weather tower   \n",
      "2024-06-26 00:56:25.173693+00:00   26.824966         1.220218  Weather tower   \n",
      "2024-06-26 00:56:26.454201+00:00   25.010000         0.030000  Weather tower   \n",
      "2024-06-26 00:56:27.734218+00:00   24.915001         0.057228  Weather tower   \n",
      "2024-06-26 00:56:29.013985+00:00   24.885000         0.057228  Weather tower   \n",
      "2024-06-26 00:56:30.294031+00:00   27.505035         0.995740  Weather tower   \n",
      "2024-06-26 00:56:31.573805+00:00   27.834999         0.195640  Weather tower   \n",
      "2024-06-26 00:56:32.853842+00:00   29.029978         1.081271  Weather tower   \n",
      "2024-06-26 00:56:34.133367+00:00   32.714977         1.236269  Weather tower   \n",
      "2024-06-26 00:56:35.414086+00:00   34.090012         0.636320  Weather tower   \n",
      "2024-06-26 00:56:36.693267+00:00   31.729998         0.290000  Weather tower   \n",
      "2024-06-26 00:56:37.973860+00:00   29.864994         0.744502  Weather tower   \n",
      "2024-06-26 00:56:39.253812+00:00   29.809963         1.025635  Weather tower   \n",
      "2024-06-26 00:56:40.533300+00:00   32.255001         0.128355  Weather tower   \n",
      "2024-06-26 00:56:41.813328+00:00   31.459995         0.559825  Weather tower   \n",
      "2024-06-26 00:56:43.093813+00:00   34.574764         2.400783  Weather tower   \n",
      "2024-06-26 00:56:44.373304+00:00   42.690105         1.230005  Weather tower   \n",
      "2024-06-26 00:56:45.653055+00:00   37.994514         2.518655  Weather tower   \n",
      "2024-06-26 00:56:46.933150+00:00   35.400002         0.000000  Weather tower   \n",
      "\n",
      "                                  maxSpeed  private_efdStamp private_identity  \\\n",
      "2024-06-26 00:56:16.214350+00:00    3.0858      1.719363e+09          ESS:301   \n",
      "2024-06-26 00:56:17.494557+00:00    3.2526      1.719363e+09          ESS:301   \n",
      "2024-06-26 00:56:18.774672+00:00    3.2526      1.719363e+09          ESS:301   \n",
      "2024-06-26 00:56:20.054118+00:00    3.4194      1.719363e+09          ESS:301   \n",
      "2024-06-26 00:56:21.175032+00:00    1.5000      1.719363e+09          ESS:204   \n",
      "2024-06-26 00:56:21.334244+00:00    3.4194      1.719363e+09          ESS:301   \n",
      "2024-06-26 00:56:22.614693+00:00    3.2526      1.719363e+09          ESS:301   \n",
      "2024-06-26 00:56:23.893923+00:00    3.4194      1.719363e+09          ESS:301   \n",
      "2024-06-26 00:56:25.173693+00:00    3.4194      1.719363e+09          ESS:301   \n",
      "2024-06-26 00:56:26.454201+00:00    3.4194      1.719363e+09          ESS:301   \n",
      "2024-06-26 00:56:27.734218+00:00    3.0858      1.719363e+09          ESS:301   \n",
      "2024-06-26 00:56:29.013985+00:00    3.2526      1.719363e+09          ESS:301   \n",
      "2024-06-26 00:56:30.294031+00:00    3.2526      1.719363e+09          ESS:301   \n",
      "2024-06-26 00:56:31.573805+00:00    3.2526      1.719363e+09          ESS:301   \n",
      "2024-06-26 00:56:32.853842+00:00    3.2526      1.719363e+09          ESS:301   \n",
      "2024-06-26 00:56:34.133367+00:00    3.4194      1.719363e+09          ESS:301   \n",
      "2024-06-26 00:56:35.414086+00:00    3.4194      1.719363e+09          ESS:301   \n",
      "2024-06-26 00:56:36.693267+00:00    3.2526      1.719363e+09          ESS:301   \n",
      "2024-06-26 00:56:37.973860+00:00    3.2526      1.719363e+09          ESS:301   \n",
      "2024-06-26 00:56:39.253812+00:00    3.2526      1.719363e+09          ESS:301   \n",
      "2024-06-26 00:56:40.533300+00:00    3.2526      1.719363e+09          ESS:301   \n",
      "2024-06-26 00:56:41.813328+00:00    3.0858      1.719363e+09          ESS:301   \n",
      "2024-06-26 00:56:43.093813+00:00    3.0858      1.719363e+09          ESS:301   \n",
      "2024-06-26 00:56:44.373304+00:00    3.0858      1.719363e+09          ESS:301   \n",
      "2024-06-26 00:56:45.653055+00:00    3.0858      1.719363e+09          ESS:301   \n",
      "2024-06-26 00:56:46.933150+00:00    3.2526      1.719363e+09          ESS:301   \n",
      "\n",
      "                                  private_kafkaStamp  private_origin  \\\n",
      "2024-06-26 00:56:16.214350+00:00        1.719363e+09          408919   \n",
      "2024-06-26 00:56:17.494557+00:00        1.719363e+09          408919   \n",
      "2024-06-26 00:56:18.774672+00:00        1.719363e+09          408919   \n",
      "2024-06-26 00:56:20.054118+00:00        1.719363e+09          408919   \n",
      "2024-06-26 00:56:21.175032+00:00        1.719363e+09          406332   \n",
      "2024-06-26 00:56:21.334244+00:00        1.719363e+09          408919   \n",
      "2024-06-26 00:56:22.614693+00:00        1.719363e+09          408919   \n",
      "2024-06-26 00:56:23.893923+00:00        1.719363e+09          408919   \n",
      "2024-06-26 00:56:25.173693+00:00        1.719363e+09          408919   \n",
      "2024-06-26 00:56:26.454201+00:00        1.719363e+09          408919   \n",
      "2024-06-26 00:56:27.734218+00:00        1.719363e+09          408919   \n",
      "2024-06-26 00:56:29.013985+00:00        1.719363e+09          408919   \n",
      "2024-06-26 00:56:30.294031+00:00        1.719363e+09          408919   \n",
      "2024-06-26 00:56:31.573805+00:00        1.719363e+09          408919   \n",
      "2024-06-26 00:56:32.853842+00:00        1.719363e+09          408919   \n",
      "2024-06-26 00:56:34.133367+00:00        1.719363e+09          408919   \n",
      "2024-06-26 00:56:35.414086+00:00        1.719363e+09          408919   \n",
      "2024-06-26 00:56:36.693267+00:00        1.719363e+09          408919   \n",
      "2024-06-26 00:56:37.973860+00:00        1.719363e+09          408919   \n",
      "2024-06-26 00:56:39.253812+00:00        1.719363e+09          408919   \n",
      "2024-06-26 00:56:40.533300+00:00        1.719363e+09          408919   \n",
      "2024-06-26 00:56:41.813328+00:00        1.719363e+09          408919   \n",
      "2024-06-26 00:56:43.093813+00:00        1.719363e+09          408919   \n",
      "2024-06-26 00:56:44.373304+00:00        1.719363e+09          408919   \n",
      "2024-06-26 00:56:45.653055+00:00        1.719363e+09          408919   \n",
      "2024-06-26 00:56:46.933150+00:00        1.719363e+09          408919   \n",
      "\n",
      "                                  private_rcvStamp private_revCode  \\\n",
      "2024-06-26 00:56:16.214350+00:00      1.719363e+09        528165b1   \n",
      "2024-06-26 00:56:17.494557+00:00      1.719363e+09        528165b1   \n",
      "2024-06-26 00:56:18.774672+00:00      1.719363e+09        528165b1   \n",
      "2024-06-26 00:56:20.054118+00:00      1.719363e+09        528165b1   \n",
      "2024-06-26 00:56:21.175032+00:00      1.719363e+09        528165b1   \n",
      "2024-06-26 00:56:21.334244+00:00      1.719363e+09        528165b1   \n",
      "2024-06-26 00:56:22.614693+00:00      1.719363e+09        528165b1   \n",
      "2024-06-26 00:56:23.893923+00:00      1.719363e+09        528165b1   \n",
      "2024-06-26 00:56:25.173693+00:00      1.719363e+09        528165b1   \n",
      "2024-06-26 00:56:26.454201+00:00      1.719363e+09        528165b1   \n",
      "2024-06-26 00:56:27.734218+00:00      1.719363e+09        528165b1   \n",
      "2024-06-26 00:56:29.013985+00:00      1.719363e+09        528165b1   \n",
      "2024-06-26 00:56:30.294031+00:00      1.719363e+09        528165b1   \n",
      "2024-06-26 00:56:31.573805+00:00      1.719363e+09        528165b1   \n",
      "2024-06-26 00:56:32.853842+00:00      1.719363e+09        528165b1   \n",
      "2024-06-26 00:56:34.133367+00:00      1.719363e+09        528165b1   \n",
      "2024-06-26 00:56:35.414086+00:00      1.719363e+09        528165b1   \n",
      "2024-06-26 00:56:36.693267+00:00      1.719363e+09        528165b1   \n",
      "2024-06-26 00:56:37.973860+00:00      1.719363e+09        528165b1   \n",
      "2024-06-26 00:56:39.253812+00:00      1.719363e+09        528165b1   \n",
      "2024-06-26 00:56:40.533300+00:00      1.719363e+09        528165b1   \n",
      "2024-06-26 00:56:41.813328+00:00      1.719363e+09        528165b1   \n",
      "2024-06-26 00:56:43.093813+00:00      1.719363e+09        528165b1   \n",
      "2024-06-26 00:56:44.373304+00:00      1.719363e+09        528165b1   \n",
      "2024-06-26 00:56:45.653055+00:00      1.719363e+09        528165b1   \n",
      "2024-06-26 00:56:46.933150+00:00      1.719363e+09        528165b1   \n",
      "\n",
      "                                  private_seqNum  private_sndStamp  salIndex  \\\n",
      "2024-06-26 00:56:16.214350+00:00          831649      1.719363e+09       301   \n",
      "2024-06-26 00:56:17.494557+00:00          831650      1.719363e+09       301   \n",
      "2024-06-26 00:56:18.774672+00:00          831651      1.719363e+09       301   \n",
      "2024-06-26 00:56:20.054118+00:00          831652      1.719363e+09       301   \n",
      "2024-06-26 00:56:21.175032+00:00           17727      1.719363e+09       204   \n",
      "2024-06-26 00:56:21.334244+00:00          831653      1.719363e+09       301   \n",
      "2024-06-26 00:56:22.614693+00:00          831654      1.719363e+09       301   \n",
      "2024-06-26 00:56:23.893923+00:00          831655      1.719363e+09       301   \n",
      "2024-06-26 00:56:25.173693+00:00          831656      1.719363e+09       301   \n",
      "2024-06-26 00:56:26.454201+00:00          831657      1.719363e+09       301   \n",
      "2024-06-26 00:56:27.734218+00:00          831658      1.719363e+09       301   \n",
      "2024-06-26 00:56:29.013985+00:00          831659      1.719363e+09       301   \n",
      "2024-06-26 00:56:30.294031+00:00          831660      1.719363e+09       301   \n",
      "2024-06-26 00:56:31.573805+00:00          831661      1.719363e+09       301   \n",
      "2024-06-26 00:56:32.853842+00:00          831662      1.719363e+09       301   \n",
      "2024-06-26 00:56:34.133367+00:00          831663      1.719363e+09       301   \n",
      "2024-06-26 00:56:35.414086+00:00          831664      1.719363e+09       301   \n",
      "2024-06-26 00:56:36.693267+00:00          831665      1.719363e+09       301   \n",
      "2024-06-26 00:56:37.973860+00:00          831666      1.719363e+09       301   \n",
      "2024-06-26 00:56:39.253812+00:00          831667      1.719363e+09       301   \n",
      "2024-06-26 00:56:40.533300+00:00          831668      1.719363e+09       301   \n",
      "2024-06-26 00:56:41.813328+00:00          831669      1.719363e+09       301   \n",
      "2024-06-26 00:56:43.093813+00:00          831670      1.719363e+09       301   \n",
      "2024-06-26 00:56:44.373304+00:00          831671      1.719363e+09       301   \n",
      "2024-06-26 00:56:45.653055+00:00          831672      1.719363e+09       301   \n",
      "2024-06-26 00:56:46.933150+00:00          831673      1.719363e+09       301   \n",
      "\n",
      "                                             sensorName   speed  speedStdDev  \\\n",
      "2024-06-26 00:56:16.214350+00:00  Weather tower airflow  3.0858     0.000000   \n",
      "2024-06-26 00:56:17.494557+00:00  Weather tower airflow  3.2526     0.123599   \n",
      "2024-06-26 00:56:18.774672+00:00  Weather tower airflow  3.0858     0.030900   \n",
      "2024-06-26 00:56:20.054118+00:00  Weather tower airflow  3.2526     0.000000   \n",
      "2024-06-26 00:56:21.175032+00:00       AuxTel-Windsonic  1.3550     0.068543   \n",
      "2024-06-26 00:56:21.334244+00:00  Weather tower airflow  3.4194     0.123599   \n",
      "2024-06-26 00:56:22.614693+00:00  Weather tower airflow  3.2526     0.000000   \n",
      "2024-06-26 00:56:23.893923+00:00  Weather tower airflow  3.2526     0.000000   \n",
      "2024-06-26 00:56:25.173693+00:00  Weather tower airflow  3.4194     0.000000   \n",
      "2024-06-26 00:56:26.454201+00:00  Weather tower airflow  3.2526     0.247198   \n",
      "2024-06-26 00:56:27.734218+00:00  Weather tower airflow  3.0858     0.000000   \n",
      "2024-06-26 00:56:29.013985+00:00  Weather tower airflow  3.2526     0.000000   \n",
      "2024-06-26 00:56:30.294031+00:00  Weather tower airflow  3.2526     0.000000   \n",
      "2024-06-26 00:56:31.573805+00:00  Weather tower airflow  3.0858     0.123599   \n",
      "2024-06-26 00:56:32.853842+00:00  Weather tower airflow  3.2526     0.000000   \n",
      "2024-06-26 00:56:34.133367+00:00  Weather tower airflow  3.2526     0.030900   \n",
      "2024-06-26 00:56:35.414086+00:00  Weather tower airflow  3.3360     0.123599   \n",
      "2024-06-26 00:56:36.693267+00:00  Weather tower airflow  3.0858     0.123599   \n",
      "2024-06-26 00:56:37.973860+00:00  Weather tower airflow  3.2526     0.000000   \n",
      "2024-06-26 00:56:39.253812+00:00  Weather tower airflow  3.0858     0.123599   \n",
      "2024-06-26 00:56:40.533300+00:00  Weather tower airflow  3.0858     0.123599   \n",
      "2024-06-26 00:56:41.813328+00:00  Weather tower airflow  3.0858     0.000000   \n",
      "2024-06-26 00:56:43.093813+00:00  Weather tower airflow  3.0858     0.030900   \n",
      "2024-06-26 00:56:44.373304+00:00  Weather tower airflow  2.9190     0.123599   \n",
      "2024-06-26 00:56:45.653055+00:00  Weather tower airflow  3.0858     0.000000   \n",
      "2024-06-26 00:56:46.933150+00:00  Weather tower airflow  3.2526     0.000000   \n",
      "\n",
      "                                     timestamp  \n",
      "2024-06-26 00:56:16.214350+00:00  1.719363e+09  \n",
      "2024-06-26 00:56:17.494557+00:00  1.719363e+09  \n",
      "2024-06-26 00:56:18.774672+00:00  1.719363e+09  \n",
      "2024-06-26 00:56:20.054118+00:00  1.719363e+09  \n",
      "2024-06-26 00:56:21.175032+00:00  1.719363e+09  \n",
      "2024-06-26 00:56:21.334244+00:00  1.719363e+09  \n",
      "2024-06-26 00:56:22.614693+00:00  1.719363e+09  \n",
      "2024-06-26 00:56:23.893923+00:00  1.719363e+09  \n",
      "2024-06-26 00:56:25.173693+00:00  1.719363e+09  \n",
      "2024-06-26 00:56:26.454201+00:00  1.719363e+09  \n",
      "2024-06-26 00:56:27.734218+00:00  1.719363e+09  \n",
      "2024-06-26 00:56:29.013985+00:00  1.719363e+09  \n",
      "2024-06-26 00:56:30.294031+00:00  1.719363e+09  \n",
      "2024-06-26 00:56:31.573805+00:00  1.719363e+09  \n",
      "2024-06-26 00:56:32.853842+00:00  1.719363e+09  \n",
      "2024-06-26 00:56:34.133367+00:00  1.719363e+09  \n",
      "2024-06-26 00:56:35.414086+00:00  1.719363e+09  \n",
      "2024-06-26 00:56:36.693267+00:00  1.719363e+09  \n",
      "2024-06-26 00:56:37.973860+00:00  1.719363e+09  \n",
      "2024-06-26 00:56:39.253812+00:00  1.719363e+09  \n",
      "2024-06-26 00:56:40.533300+00:00  1.719363e+09  \n",
      "2024-06-26 00:56:41.813328+00:00  1.719363e+09  \n",
      "2024-06-26 00:56:43.093813+00:00  1.719363e+09  \n",
      "2024-06-26 00:56:44.373304+00:00  1.719363e+09  \n",
      "2024-06-26 00:56:45.653055+00:00  1.719363e+09  \n",
      "2024-06-26 00:56:46.933150+00:00  1.719363e+09  \n"
     ]
    }
   ],
   "source": [
    "print(type(windData))\n",
    "print(windData.columns.tolist())\n",
    "print(windData)"
   ]
  },
  {
   "cell_type": "code",
   "execution_count": 8,
   "id": "0f5760e6-d9f4-40da-8883-b1f31cfb1443",
   "metadata": {
    "execution": {
     "iopub.execute_input": "2024-08-21T14:03:38.797911Z",
     "iopub.status.busy": "2024-08-21T14:03:38.797490Z",
     "iopub.status.idle": "2024-08-21T14:03:41.182191Z",
     "shell.execute_reply": "2024-08-21T14:03:41.181680Z",
     "shell.execute_reply.started": "2024-08-21T14:03:38.797898Z"
    }
   },
   "outputs": [
    {
     "data": {
      "text/html": [
       "<pre style=\"margin: 0.1em;\n",
       "padding-left: 0.25em;\n",
       "border-left-style: solid;\n",
       "font-family: var(--jp-code-font-family);\n",
       "font-size: var(--jp-code-font-size);\n",
       "line-height: var(--jp-code-line-height);\n",
       "\"><span style=\"color: var(--jp-warn-color2)\">lsst.summit.extras.astrochat</span> <span style=\"color: var(--jp-warn-color0)\">WARNING</span>: OPENAI_API_KEY is already set. Overwriting with key from ~/.openaikey.txt</pre>"
      ],
      "text/plain": [
       "<IPython.core.display.HTML object>"
      ]
     },
     "metadata": {},
     "output_type": "display_data"
    },
    {
     "name": "stdout",
     "output_type": "stream",
     "text": [
      "\n",
      "\n",
      "The meaning of life is a highly debated and subjective topic, and there is no one definitive answer. Some people believe that the meaning of life is to find happiness and fulfillment, others believe it is to fulfill a certain purpose or destiny, and still others believe it is to seek spiritual enlightenment or connection with a higher power. Ultimately, the answer to the meaning of life may differ for each individual and can change throughout one's lifetime. \n",
      "Tokens Used: 170\n",
      "\tPrompt Tokens: 10\n",
      "\tCompletion Tokens: 160\n",
      "Successful Requests: 1\n",
      "Total Cost (USD): $0.000335\n",
      "\n",
      "\n",
      "Why did the astronomer break up with the physicist?\n",
      "\n",
      "Because they had no chemistry, it was just a matter of time and space.\n",
      "Tokens Used: 228\n",
      "\tPrompt Tokens: 18\n",
      "\tCompletion Tokens: 210\n",
      "Successful Requests: 2\n",
      "Total Cost (USD): $0.000447\n"
     ]
    }
   ],
   "source": [
    "from lsst.summit.extras.astrochat import setApiKey\n",
    "from langchain_community.callbacks import get_openai_callback\n",
    "from langchain_openai import OpenAI\n",
    "\n",
    "setApiKey()\n",
    "\n",
    "llm = OpenAI(model_name=\"gpt-3.5-turbo-instruct\", n=2, best_of=2)\n",
    "\n",
    "question = \"What is the answer of the meaning of life?\"\n",
    "joke = \"Tell me a joke about cosmology?\"\n",
    "\n",
    "with get_openai_callback() as cb:\n",
    "    result_1 = llm.invoke(question)\n",
    "    print(result_1)\n",
    "    print(cb)\n",
    "\n",
    "    result_2 = llm.invoke(joke)\n",
    "    print(result_2)\n",
    "    print(cb)"
   ]
  }
 ],
 "metadata": {
  "kernelspec": {
   "display_name": "LSST",
   "language": "python",
   "name": "lsst"
  },
  "language_info": {
   "codemirror_mode": {
    "name": "ipython",
    "version": 3
   },
   "file_extension": ".py",
   "mimetype": "text/x-python",
   "name": "python",
   "nbconvert_exporter": "python",
   "pygments_lexer": "ipython3",
   "version": "3.11.9"
  }
 },
 "nbformat": 4,
 "nbformat_minor": 5
}
