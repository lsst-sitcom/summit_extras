{
 "cells": [
  {
   "cell_type": "code",
   "execution_count": 1,
   "metadata": {
    "execution": {
     "iopub.execute_input": "2024-08-28T17:37:48.439017Z",
     "iopub.status.busy": "2024-08-28T17:37:48.438718Z",
     "iopub.status.idle": "2024-08-28T17:37:55.184635Z",
     "shell.execute_reply": "2024-08-28T17:37:55.184015Z",
     "shell.execute_reply.started": "2024-08-28T17:37:48.439000Z"
    }
   },
   "outputs": [
    {
     "data": {
      "text/html": [
       "<pre style=\"margin: 0.1em;\n",
       "padding-left: 0.25em;\n",
       "border-left-style: solid;\n",
       "font-family: var(--jp-code-font-family);\n",
       "font-size: var(--jp-code-font-size);\n",
       "line-height: var(--jp-code-line-height);\n",
       "\"><span style=\"color: var(--jp-warn-color2)\">lsst.summit.extras.astrochat</span> <span style=\"color: var(--jp-warn-color0)\">WARNING</span>: Observing metadata at staff-rsp is currently copied by hand by Merlin and will not be updated in realtime</pre>"
      ],
      "text/plain": [
       "<IPython.core.display.HTML object>"
      ]
     },
     "metadata": {},
     "output_type": "display_data"
    },
    {
     "ename": "AttributeError",
     "evalue": "'AstroChat' object has no attribute 'PREFIX'",
     "output_type": "error",
     "traceback": [
      "\u001b[0;31m---------------------------------------------------------------------------\u001b[0m",
      "\u001b[0;31mAttributeError\u001b[0m                            Traceback (most recent call last)",
      "Cell \u001b[0;32mIn[1], line 6\u001b[0m\n\u001b[1;32m      4\u001b[0m dayObs \u001b[38;5;241m=\u001b[39m \u001b[38;5;241m20230131\u001b[39m\n\u001b[1;32m      5\u001b[0m setApiKey()\n\u001b[0;32m----> 6\u001b[0m chat \u001b[38;5;241m=\u001b[39m \u001b[43mAstroChat\u001b[49m\u001b[43m(\u001b[49m\u001b[43mdayObs\u001b[49m\u001b[38;5;241;43m=\u001b[39;49m\u001b[43mdayObs\u001b[49m\u001b[43m,\u001b[49m\u001b[43m \u001b[49m\u001b[43mverbosity\u001b[49m\u001b[38;5;241;43m=\u001b[39;49m\u001b[38;5;124;43m'\u001b[39;49m\u001b[38;5;124;43mALL\u001b[39;49m\u001b[38;5;124;43m'\u001b[39;49m\u001b[43m,\u001b[49m\u001b[43m \u001b[49m\u001b[43mexport\u001b[49m\u001b[38;5;241;43m=\u001b[39;49m\u001b[38;5;28;43;01mTrue\u001b[39;49;00m\u001b[43m)\u001b[49m\n",
      "File \u001b[0;32m~/lsst/summit_extras/python/lsst/summit/extras/astrochat.py:300\u001b[0m, in \u001b[0;36mAstroChat.__init__\u001b[0;34m(self, dayObs, export, temperature, verbosity)\u001b[0m\n\u001b[1;32m    291\u001b[0m \u001b[38;5;28mself\u001b[39m\u001b[38;5;241m.\u001b[39mdata \u001b[38;5;241m=\u001b[39m getObservingData(dayObs)\n\u001b[1;32m    292\u001b[0m \u001b[38;5;28mself\u001b[39m\u001b[38;5;241m.\u001b[39mdate \u001b[38;5;241m=\u001b[39m \u001b[38;5;124mf\u001b[39m\u001b[38;5;124m\"\u001b[39m\u001b[38;5;132;01m{\u001b[39;00m\u001b[38;5;28mstr\u001b[39m(dayObs)[:\u001b[38;5;241m4\u001b[39m]\u001b[38;5;132;01m}\u001b[39;00m\u001b[38;5;124m-\u001b[39m\u001b[38;5;132;01m{\u001b[39;00m\u001b[38;5;28mstr\u001b[39m(dayObs)[\u001b[38;5;241m4\u001b[39m:\u001b[38;5;241m6\u001b[39m]\u001b[38;5;132;01m}\u001b[39;00m\u001b[38;5;124m-\u001b[39m\u001b[38;5;132;01m{\u001b[39;00m\u001b[38;5;28mstr\u001b[39m(dayObs)[\u001b[38;5;241m6\u001b[39m:]\u001b[38;5;132;01m}\u001b[39;00m\u001b[38;5;124m\"\u001b[39m \u001b[38;5;66;03m# Convert 'AAAAMMDD' to 'AAAA-MM-DD'\u001b[39;00m\n\u001b[1;32m    295\u001b[0m \u001b[38;5;28mself\u001b[39m\u001b[38;5;241m.\u001b[39m_agent \u001b[38;5;241m=\u001b[39m create_pandas_dataframe_agent(\n\u001b[1;32m    296\u001b[0m     \u001b[38;5;28mself\u001b[39m\u001b[38;5;241m.\u001b[39m_chat,\n\u001b[1;32m    297\u001b[0m     \u001b[38;5;28mself\u001b[39m\u001b[38;5;241m.\u001b[39mdata,\n\u001b[1;32m    298\u001b[0m     return_intermediate_steps\u001b[38;5;241m=\u001b[39m\u001b[38;5;28;01mTrue\u001b[39;00m,\n\u001b[1;32m    299\u001b[0m     include_df_in_prompt\u001b[38;5;241m=\u001b[39m\u001b[38;5;28;01mTrue\u001b[39;00m,\n\u001b[0;32m--> 300\u001b[0m     prefix\u001b[38;5;241m=\u001b[39m\u001b[38;5;28;43mself\u001b[39;49m\u001b[38;5;241;43m.\u001b[39;49m\u001b[43mPREFIX\u001b[49m,\n\u001b[1;32m    301\u001b[0m     extra_tools \u001b[38;5;241m=\u001b[39m toolkit,\n\u001b[1;32m    302\u001b[0m     number_of_head_rows\u001b[38;5;241m=\u001b[39m\u001b[38;5;241m1\u001b[39m,\n\u001b[1;32m    303\u001b[0m )\n\u001b[1;32m    304\u001b[0m \u001b[38;5;28mself\u001b[39m\u001b[38;5;241m.\u001b[39m_totalCallbacks \u001b[38;5;241m=\u001b[39m langchain_community\u001b[38;5;241m.\u001b[39mcallbacks\u001b[38;5;241m.\u001b[39mopenai_info\u001b[38;5;241m.\u001b[39mOpenAICallbackHandler()\n\u001b[1;32m    305\u001b[0m \u001b[38;5;28mself\u001b[39m\u001b[38;5;241m.\u001b[39mformatter \u001b[38;5;241m=\u001b[39m ResponseFormatter()\n",
      "\u001b[0;31mAttributeError\u001b[0m: 'AstroChat' object has no attribute 'PREFIX'"
     ]
    }
   ],
   "source": [
    "from lsst.summit.extras.astrochat import setApiKey, AstroChat\n",
    "%matplotlib inline\n",
    "\n",
    "dayObs = 20230131\n",
    "setApiKey()\n",
    "chat = AstroChat(dayObs=dayObs, verbosity='ALL', export=True)"
   ]
  },
  {
   "cell_type": "code",
   "execution_count": null,
   "metadata": {},
   "outputs": [],
   "source": [
    "chat.listDemos()"
   ]
  },
  {
   "cell_type": "code",
   "execution_count": null,
   "metadata": {},
   "outputs": [],
   "source": [
    "chat.runDemo('secretWord')"
   ]
  },
  {
   "cell_type": "code",
   "execution_count": null,
   "metadata": {},
   "outputs": [],
   "source": [
    "chat.runDemo('nasaImage')"
   ]
  },
  {
   "cell_type": "code",
   "execution_count": null,
   "metadata": {},
   "outputs": [],
   "source": [
    "chat.runDemo('randomMTG')"
   ]
  },
  {
   "cell_type": "code",
   "execution_count": null,
   "metadata": {},
   "outputs": [],
   "source": []
  }
 ],
 "metadata": {
  "kernelspec": {
   "display_name": "LSST",
   "language": "python",
   "name": "lsst"
  },
  "language_info": {
   "codemirror_mode": {
    "name": "ipython",
    "version": 3
   },
   "file_extension": ".py",
   "mimetype": "text/x-python",
   "name": "python",
   "nbconvert_exporter": "python",
   "pygments_lexer": "ipython3",
   "version": "3.11.9"
  }
 },
 "nbformat": 4,
 "nbformat_minor": 4
}
