{
 "cells": [
  {
   "cell_type": "code",
   "execution_count": 4,
   "id": "949731ed-3932-483e-9325-d2058a1405cf",
   "metadata": {
    "execution": {
     "iopub.execute_input": "2024-12-20T17:14:00.963880Z",
     "iopub.status.busy": "2024-12-20T17:14:00.963526Z",
     "iopub.status.idle": "2024-12-20T17:14:02.167020Z",
     "shell.execute_reply": "2024-12-20T17:14:02.166701Z",
     "shell.execute_reply.started": "2024-12-20T17:14:00.963862Z"
    }
   },
   "outputs": [
    {
     "name": "stdout",
     "output_type": "stream",
     "text": [
      "\n",
      "Iteration 1:\n",
      "Generated Code:\n",
      " viscachas_at_lunch = 2\n",
      "viscachas_at_dinner = 3\n",
      "total_viscachas = viscachas_at_lunch + viscachas_at_dinner\n",
      "total_viscachas\n",
      "Execution Result:\n",
      " 5\n",
      "\n",
      "Question: Chris saw 2 viscachas at lunch time, then 3 at dinner. How many viscachas did Chris see in the day?\n",
      "Final Answer: 5\n"
     ]
    }
   ],
   "source": [
    "import dspy\n",
    "import re\n",
    "from dspy.primitives.python_interpreter import PythonInterpreter, CodePrompt\n",
    "\n",
    "\n",
    "# Configure a local model with Ollama\n",
    "# lm = dspy.LM('ollama_chat/tulu3', api_base='https://xxxx-xxx-xx-xxx-xx.ngrok-free.app', api_key='')\n",
    "# lm = dspy.LM('ollama_chat/tutlu3', api_base='http://localhost:11434', api_key='')\n",
    "\n",
    "# Read the API key from a file\n",
    "with open('/home/c/carlosm/.openaikey.txt', 'r') as file:\n",
    "    api_key = file.read().strip()\n",
    "\n",
    "# Configure the language model with OpenAI GPT-4o\n",
    "lm = dspy.LM('openai/gpt-4o', api_key=api_key)\n",
    "dspy.settings.configure(lm=lm)\n",
    "\n",
    "\n",
    "class ProgramOfThought(dspy.Module):\n",
    "    \"\"\"Class to generate and execute Python code iteratively to solve questions.\"\"\"\n",
    "\n",
    "    def __init__(self, signature, max_iters=3):\n",
    "        super().__init__()\n",
    "        self.signature = signature\n",
    "        self.max_iters = max_iters\n",
    "        # Allow importing only numpy, astropy, and sympy\n",
    "        self.interpreter = PythonInterpreter(\n",
    "            action_space={\"print\": print},\n",
    "            import_white_list=[\"numpy\", \"astropy\", \"sympy\"]\n",
    "        )\n",
    "\n",
    "    def forward(self, question):\n",
    "        \"\"\"Generates and executes Python code for a given question up to a maximum number of iterations.\"\"\"\n",
    "\n",
    "        for iteration in range(self.max_iters):\n",
    "            # Generate Python code for the question\n",
    "            generated_code = self._generate_code(question)\n",
    "            print(f\"\\nIteration {iteration + 1}:\")\n",
    "            print(\"Generated Code:\\n\", generated_code)\n",
    "\n",
    "            # Attempt to execute the code\n",
    "            try:\n",
    "                result, _ = CodePrompt(generated_code).execute(self.interpreter)\n",
    "                print(\"Execution Result:\\n\", result)\n",
    "                return {\"answer\": result}\n",
    "            except Exception as e:\n",
    "                print(\"Execution Error:\\n\", e)\n",
    "\n",
    "        # Return None if all iterations fail\n",
    "        print(\"\\nFailed to generate valid code after several iterations.\")\n",
    "        return {\"answer\": None}\n",
    "\n",
    "    def _generate_code(self, question):\n",
    "        \"\"\"Generates Python code using the model for the given question.\"\"\"\n",
    "\n",
    "        generate_code_signature = dspy.Signature(\"question -> generated_code\")\n",
    "        predict = dspy.Predict(generate_code_signature)\n",
    "\n",
    "        prompt = f\"\"\"\n",
    "You are an AI that writes Python code to solve problems. \n",
    "Generate Python code to solve the following problem. Do not include any explanations, Markdown formatting, or comments. \n",
    "Only output the executable Python code.\n",
    "\n",
    "Question: {question}\n",
    "\n",
    "Code:\n",
    "\"\"\"\n",
    "        # Use the model to generate the code\n",
    "        completion = predict(question=prompt)\n",
    "        generated_code = completion.generated_code\n",
    "\n",
    "        # Clean code block tags like ```python and ```\n",
    "        cleaned_code = re.sub(r\"```[^\\n]*\\n\", \"\", generated_code)\n",
    "        cleaned_code = re.sub(r\"```\", \"\", cleaned_code)\n",
    "\n",
    "        return cleaned_code\n",
    "\n",
    "\n",
    "# Create an instance of ProgramOfThought with a simple signature\n",
    "generate_answer_signature = dspy.Signature(\"question -> answer\")\n",
    "pot = ProgramOfThought(signature=generate_answer_signature)\n",
    "\n",
    "# Example usage\n",
    "question = \"Chris saw 2 viscachas at lunch time, then 3 at dinner. How many viscachas did Chris see in the day?\"\n",
    "result = pot(question=question)\n",
    "\n",
    "# Print the final answer\n",
    "print(\"\\nQuestion:\", question)\n",
    "print(\"Final Answer:\", result['answer'])\n"
   ]
  },
  {
   "cell_type": "code",
   "execution_count": 9,
   "id": "26c67b95-b2ba-4168-8317-880b62e8fd5c",
   "metadata": {
    "execution": {
     "iopub.execute_input": "2024-12-20T17:26:36.073156Z",
     "iopub.status.busy": "2024-12-20T17:26:36.072928Z",
     "iopub.status.idle": "2024-12-20T17:26:38.549850Z",
     "shell.execute_reply": "2024-12-20T17:26:38.549436Z",
     "shell.execute_reply.started": "2024-12-20T17:26:36.073142Z"
    }
   },
   "outputs": [
    {
     "name": "stdout",
     "output_type": "stream",
     "text": [
      "\n",
      "Iteration 1:\n",
      "Generated Code:\n",
      " t = 2.5\n",
      "\n",
      "# Velocity is the derivative of y(t) with respect to t\n",
      "def velocity(t):\n",
      "    return 10 * t\n",
      "\n",
      "# Acceleration is the derivative of velocity with respect to t\n",
      "def acceleration(t):\n",
      "    return 10\n",
      "\n",
      "v = velocity(t)\n",
      "a = acceleration(t)\n",
      "\n",
      "v, a\n",
      "Execution Result:\n",
      " (25.0, 10)\n",
      "\n",
      "Question: An object in free fall travels a distance y(t) = 5t^2 meters as a function of time t in seconds. What is the object's acceleration and velocity at any instant t= 2.5?\n",
      "Final Answer: (25.0, 10)\n"
     ]
    }
   ],
   "source": [
    "# Another example\n",
    "question = (\n",
    "    \"An object in free fall travels a distance y(t) = 5t^2 meters as a function of time t in seconds. \"\n",
    "    \"What is the object's acceleration and velocity at any instant t= 2.5?\"\n",
    ")\n",
    "result = pot(question=question)\n",
    "\n",
    "# Print the final answer\n",
    "print(\"\\nQuestion:\", question)\n",
    "print(\"Final Answer:\", result['answer'])"
   ]
  },
  {
   "cell_type": "code",
   "execution_count": 12,
   "id": "ef7c8ca8-99f8-4a1b-9fd3-6733fb7105b0",
   "metadata": {
    "execution": {
     "iopub.execute_input": "2024-12-20T17:27:49.468302Z",
     "iopub.status.busy": "2024-12-20T17:27:49.467972Z",
     "iopub.status.idle": "2024-12-20T17:27:49.471477Z",
     "shell.execute_reply": "2024-12-20T17:27:49.471106Z",
     "shell.execute_reply.started": "2024-12-20T17:27:49.468285Z"
    }
   },
   "outputs": [
    {
     "data": {
      "text/plain": [
       "dict"
      ]
     },
     "execution_count": 12,
     "metadata": {},
     "output_type": "execute_result"
    }
   ],
   "source": [
    "type(result)"
   ]
  },
  {
   "cell_type": "code",
   "execution_count": 7,
   "id": "d637c9d2-743e-484d-af5e-f819beb44688",
   "metadata": {
    "execution": {
     "iopub.execute_input": "2024-12-20T17:15:02.855372Z",
     "iopub.status.busy": "2024-12-20T17:15:02.855158Z",
     "iopub.status.idle": "2024-12-20T17:15:04.054343Z",
     "shell.execute_reply": "2024-12-20T17:15:04.053898Z",
     "shell.execute_reply.started": "2024-12-20T17:15:02.855355Z"
    }
   },
   "outputs": [
    {
     "name": "stdout",
     "output_type": "stream",
     "text": [
      "\n",
      "Iteration 1:\n",
      "Generated Code:\n",
      " from astropy import units as u\n",
      "\n",
      "parsecs = 1.5 * u.parsec\n",
      "light_years = parsecs.to(u.lightyear)\n",
      "print(light_years.value)\n",
      "4.89234566575115\n",
      "Execution Result:\n",
      " 4.89234566575115 lyr\n",
      "\n",
      "Question: Using the astropy library, convert 1.5 parsecs to light-years.\n",
      "Final Answer: 4.89234566575115 lyr\n"
     ]
    }
   ],
   "source": [
    "# Another example\n",
    "question = \"Using the astropy library, convert 1.5 parsecs to light-years.\"\n",
    "result = pot(question=question)\n",
    "\n",
    "# Print the final answer\n",
    "print(\"\\nQuestion:\", question)\n",
    "print(\"Final Answer:\", result['answer'])"
   ]
  },
  {
   "cell_type": "code",
   "execution_count": 16,
   "id": "4c3d1ed1-c639-4ca1-8c13-9c3337e143d6",
   "metadata": {
    "execution": {
     "iopub.execute_input": "2024-12-20T17:38:17.301191Z",
     "iopub.status.busy": "2024-12-20T17:38:17.300873Z",
     "iopub.status.idle": "2024-12-20T17:38:17.307900Z",
     "shell.execute_reply": "2024-12-20T17:38:17.307602Z",
     "shell.execute_reply.started": "2024-12-20T17:38:17.301177Z"
    }
   },
   "outputs": [
    {
     "name": "stdout",
     "output_type": "stream",
     "text": [
      "\n",
      "Iteration 1:\n",
      "Generated Code:\n",
      " from astropy.coordinates import SkyCoord\n",
      "import astropy.units as u\n",
      "\n",
      "# Define the equatorial coordinates\n",
      "ra = 10 * u.hourangle\n",
      "dec = 20 * u.deg\n",
      "\n",
      "# Create a SkyCoord object\n",
      "equatorial_coord = SkyCoord(ra=ra, dec=dec, frame='icrs')\n",
      "\n",
      "# Convert to galactic coordinates\n",
      "galactic_coord = equatorial_coord.galactic\n",
      "\n",
      "# Output the galactic coordinates\n",
      "l = galactic_coord.l.deg\n",
      "b = galactic_coord.b.deg\n",
      "l, b\n",
      "Execution Result:\n",
      " (213.80097735289044, 50.26371770865174)\n",
      "\n",
      "Question: A celestial object has equatorial coordinates of right ascension 10 hours and declination +20 degrees. Convert these coordinates to galactic coordinates using astropy.\n",
      "Final Answer: (213.80097735289044, 50.26371770865174)\n"
     ]
    }
   ],
   "source": [
    "# Another example\n",
    "question = \"A celestial object has equatorial coordinates of right ascension 10 hours and declination +20 degrees. Convert these coordinates to galactic coordinates using astropy.\"\n",
    "result = pot(question=question)\n",
    "\n",
    "# Print the final answer\n",
    "print(\"\\nQuestion:\", question)\n",
    "print(\"Final Answer:\", result['answer'])"
   ]
  },
  {
   "cell_type": "code",
   "execution_count": 17,
   "id": "af75917f-ea1b-4aba-813b-a6e1d7c9931e",
   "metadata": {
    "execution": {
     "iopub.execute_input": "2024-12-20T17:38:21.729822Z",
     "iopub.status.busy": "2024-12-20T17:38:21.729594Z",
     "iopub.status.idle": "2024-12-20T17:38:24.128210Z",
     "shell.execute_reply": "2024-12-20T17:38:24.127883Z",
     "shell.execute_reply.started": "2024-12-20T17:38:21.729806Z"
    }
   },
   "outputs": [
    {
     "name": "stdout",
     "output_type": "stream",
     "text": [
      "\n",
      "Iteration 1:\n",
      "Generated Code:\n",
      " from astropy import constants as const\n",
      "from astropy import units as u\n",
      "\n",
      "# Speed of the celestial object\n",
      "v = 30000 * u.km / u.s\n",
      "\n",
      "# Speed of light\n",
      "c = const.c\n",
      "\n",
      "# Calculate the relativistic redshift\n",
      "z = ((1 + v/c) / (1 - v/c))**0.5 - 1\n",
      "\n",
      "z_value = z.value\n",
      "z_value\n",
      "Execution Result:\n",
      " 0.10561890816244568\n",
      "\n",
      "Question: A celestial object moves at a speed of 30,000 km/s. Calculate the relativistic redshift of this object using astropy.\n",
      "Final Answer: 0.10561890816244568\n"
     ]
    }
   ],
   "source": [
    "# Another example\n",
    "question = \"A celestial object moves at a speed of 30,000 km/s. Calculate the relativistic redshift of this object using astropy.\"\n",
    "result = pot(question=question)\n",
    "\n",
    "# Print the final answer\n",
    "print(\"\\nQuestion:\", question)\n",
    "print(\"Final Answer:\", result['answer'])"
   ]
  },
  {
   "cell_type": "code",
   "execution_count": null,
   "id": "891aecda-6856-4a4e-ad69-f8303eae44bb",
   "metadata": {},
   "outputs": [],
   "source": []
  }
 ],
 "metadata": {
  "kernelspec": {
   "display_name": "LSST",
   "language": "python",
   "name": "lsst"
  },
  "language_info": {
   "codemirror_mode": {
    "name": "ipython",
    "version": 3
   },
   "file_extension": ".py",
   "mimetype": "text/x-python",
   "name": "python",
   "nbconvert_exporter": "python",
   "pygments_lexer": "ipython3",
   "version": "3.11.9"
  }
 },
 "nbformat": 4,
 "nbformat_minor": 5
}
