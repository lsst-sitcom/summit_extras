{
 "cells": [
  {
   "cell_type": "code",
   "execution_count": 15,
   "metadata": {
    "execution": {
     "iopub.execute_input": "2024-06-07T13:51:15.875613Z",
     "iopub.status.busy": "2024-06-07T13:51:15.875427Z",
     "iopub.status.idle": "2024-06-07T13:51:15.878296Z",
     "shell.execute_reply": "2024-06-07T13:51:15.877955Z",
     "shell.execute_reply.started": "2024-06-07T13:51:15.875600Z"
    }
   },
   "outputs": [],
   "source": [
    "import logging\n",
    "import os\n",
    "import pandas as pd\n",
    "import re\n",
    "import warnings\n",
    "import inspect\n",
    "import openai\n",
    "from openai import OpenAI\n",
    "\n",
    "from lsst.summit.utils.utils import getCurrentDayObs_int, getSite\n",
    "from lsst.utils.iteration import ensure_iterable\n",
    "from IPython.display import display, Markdown"
   ]
  },
  {
   "cell_type": "code",
   "execution_count": 10,
   "metadata": {
    "execution": {
     "iopub.execute_input": "2024-06-07T13:47:43.341123Z",
     "iopub.status.busy": "2024-06-07T13:47:43.340739Z",
     "iopub.status.idle": "2024-06-07T13:47:43.343271Z",
     "shell.execute_reply": "2024-06-07T13:47:43.342939Z",
     "shell.execute_reply.started": "2024-06-07T13:47:43.341108Z"
    }
   },
   "outputs": [],
   "source": [
    "import langchain  # noqa: E402\n",
    "import langchain_community\n",
    "from langchain_openai import ChatOpenAI\n",
    "from langchain.callbacks import get_openai_callback  # noqa: E402\n",
    "from langchain_experimental.agents import create_pandas_dataframe_agent"
   ]
  },
  {
   "cell_type": "code",
   "execution_count": 11,
   "metadata": {
    "execution": {
     "iopub.execute_input": "2024-06-07T13:47:45.798949Z",
     "iopub.status.busy": "2024-06-07T13:47:45.798602Z",
     "iopub.status.idle": "2024-06-07T13:47:45.801724Z",
     "shell.execute_reply": "2024-06-07T13:47:45.801398Z",
     "shell.execute_reply.started": "2024-06-07T13:47:45.798935Z"
    }
   },
   "outputs": [],
   "source": [
    "def setApiKey(filename=\"~/.openaikey.txt\"):\n",
    "    \"\"\"Set the OpenAI API key from a file.\n",
    "\n",
    "    Set the OpenAI API key from a file. The file should contain a single line\n",
    "    with the API key. The file name can be specified as an argument. If the\n",
    "    API key is already set, it will be overwritten, with a warning issues.\n",
    "\n",
    "    Parameters\n",
    "    ----------\n",
    "    filename : `str`\n",
    "        Name of the file containing the API key.\n",
    "    \"\"\"\n",
    "\n",
    "    currentKey = os.getenv('OPENAI_API_KEY')\n",
    "    if currentKey:\n",
    "        LOG.warning(f\"OPENAI_API_KEY is already set. Overwriting with key from {filename}\")\n",
    "\n",
    "    filename = os.path.expanduser(filename)\n",
    "    with open(filename, 'r') as file:\n",
    "        apiKey = file.readline().strip()\n",
    "\n",
    "    openai.api_key = apiKey\n",
    "    os.environ[\"OPENAI_API_KEY\"] = apiKey"
   ]
  },
  {
   "cell_type": "code",
   "execution_count": 12,
   "metadata": {
    "execution": {
     "iopub.execute_input": "2024-06-07T13:47:48.421289Z",
     "iopub.status.busy": "2024-06-07T13:47:48.420736Z",
     "iopub.status.idle": "2024-06-07T13:47:48.423418Z",
     "shell.execute_reply": "2024-06-07T13:47:48.423111Z",
     "shell.execute_reply.started": "2024-06-07T13:47:48.421266Z"
    }
   },
   "outputs": [],
   "source": [
    "setApiKey()"
   ]
  },
  {
   "cell_type": "code",
   "execution_count": 17,
   "metadata": {
    "execution": {
     "iopub.execute_input": "2024-06-07T13:52:51.460827Z",
     "iopub.status.busy": "2024-06-07T13:52:51.460290Z",
     "iopub.status.idle": "2024-06-07T13:52:51.629275Z",
     "shell.execute_reply": "2024-06-07T13:52:51.628849Z",
     "shell.execute_reply.started": "2024-06-07T13:52:51.460813Z"
    }
   },
   "outputs": [],
   "source": [
    "client = OpenAI()\n",
    "  \n",
    "assistant = client.beta.assistants.create(\n",
    "    name=\"Astronomy Assistant\",\n",
    "    description=\"Assists with fetching and analyzing observational data for astronomy.\",\n",
    "    instructions=\"Help with astronomy calculations and data formatting.\",\n",
    "    tools=[{\"type\": \"code_interpreter\"}],\n",
    "    model=\"gpt-4o\",\n",
    ")"
   ]
  },
  {
   "cell_type": "code",
   "execution_count": 18,
   "metadata": {
    "execution": {
     "iopub.execute_input": "2024-06-07T13:53:20.481001Z",
     "iopub.status.busy": "2024-06-07T13:53:20.480519Z",
     "iopub.status.idle": "2024-06-07T13:53:20.684011Z",
     "shell.execute_reply": "2024-06-07T13:53:20.683607Z",
     "shell.execute_reply.started": "2024-06-07T13:53:20.480987Z"
    }
   },
   "outputs": [],
   "source": [
    "thread = client.beta.threads.create()"
   ]
  },
  {
   "cell_type": "code",
   "execution_count": null,
   "metadata": {},
   "outputs": [],
   "source": [
    "def getObservingData(dayObs=None):\n",
    "    \"\"\"Get the observing metadata for the current or a past day.\n",
    "    \"\"\"\n",
    "    currentDayObs = getCurrentDayObs_int()\n",
    "    if dayObs is None:\n",
    "        dayObs = currentDayObs\n",
    "    isCurrent = dayObs == currentDayObs\n",
    "\n",
    "    site = getSite()\n",
    "\n",
    "    filename = None\n",
    "    if site == 'summit':\n",
    "        filename = f\"/project/rubintv/sidecar_metadata/dayObs_{dayObs}.json\"\n",
    "    elif site in ['rubin-devl']:\n",
    "        LOG.warning(f\"Observing metadata at {site} is currently copied by hand by Merlin and will not be \"\n",
    "                    \"updated in realtime\")\n",
    "        filename = f\"/sdf/home/m/mfl/u/rubinTvDataProducts/sidecar_metadata/dayObs_{dayObs}.json\"\n",
    "    elif site in ['staff-rsp']:\n",
    "        LOG.warning(f\"Observing metadata at {site} is currently copied by hand by Merlin and will not be \"\n",
    "                    \"updated in realtime\")\n",
    "        filename = f\"/home/m/mfl/u/rubinTvDataProducts/sidecar_metadata/dayObs_{dayObs}.json\"\n",
    "    else:\n",
    "        raise RuntimeError(f\"Observing metadata not available for site {site}\")\n",
    "\n",
    "    # check the file exists, and raise if not\n",
    "    if not os.path.exists(filename):\n",
    "        LOG.warning(f\"Observing metadata file for {'current' if isCurrent else ''} dayObs \"\n",
    "                    f\"{dayObs} does not exist at {filename}.\")\n",
    "        return pd.DataFrame()\n",
    "\n",
    "    table = pd.read_json(filename).T\n",
    "    table = table.sort_index()\n",
    "\n",
    "    # remove all the columns which start with a leading underscore, as these\n",
    "    # are used by the backend to signal how specific cells should be colored\n",
    "    # on RubinTV, and for nothing else.\n",
    "    table = table.drop([col for col in table.columns if col.startswith('_')], axis=1)\n",
    "\n",
    "    return table"
   ]
  }
 ],
 "metadata": {
  "kernelspec": {
   "display_name": "LSST",
   "language": "python",
   "name": "lsst"
  },
  "language_info": {
   "codemirror_mode": {
    "name": "ipython",
    "version": 3
   },
   "file_extension": ".py",
   "mimetype": "text/x-python",
   "name": "python",
   "nbconvert_exporter": "python",
   "pygments_lexer": "ipython3",
   "version": "3.11.7"
  }
 },
 "nbformat": 4,
 "nbformat_minor": 4
}
