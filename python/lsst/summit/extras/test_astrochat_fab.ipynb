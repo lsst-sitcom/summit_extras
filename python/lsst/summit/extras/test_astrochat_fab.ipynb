{
 "cells": [
  {
   "cell_type": "code",
   "execution_count": 1,
   "metadata": {
    "execution": {
     "iopub.execute_input": "2024-08-28T18:00:16.366301Z",
     "iopub.status.busy": "2024-08-28T18:00:16.365766Z",
     "iopub.status.idle": "2024-08-28T18:00:23.154828Z",
     "shell.execute_reply": "2024-08-28T18:00:23.154433Z",
     "shell.execute_reply.started": "2024-08-28T18:00:16.366285Z"
    }
   },
   "outputs": [
    {
     "data": {
      "text/html": [
       "<pre style=\"margin: 0.1em;\n",
       "padding-left: 0.25em;\n",
       "border-left-style: solid;\n",
       "font-family: var(--jp-code-font-family);\n",
       "font-size: var(--jp-code-font-size);\n",
       "line-height: var(--jp-code-line-height);\n",
       "\"><span style=\"color: var(--jp-warn-color2)\">lsst.summit.extras.astrochat</span> <span style=\"color: var(--jp-warn-color0)\">WARNING</span>: Observing metadata at staff-rsp is currently copied by hand by Merlin and will not be updated in realtime</pre>"
      ],
      "text/plain": [
       "<IPython.core.display.HTML object>"
      ]
     },
     "metadata": {},
     "output_type": "display_data"
    },
    {
     "data": {
      "text/html": [
       "<pre style=\"margin: 0.1em;\n",
       "padding-left: 0.25em;\n",
       "border-left-style: solid;\n",
       "font-family: var(--jp-code-font-family);\n",
       "font-size: var(--jp-code-font-size);\n",
       "line-height: var(--jp-code-line-height);\n",
       "\"><span style=\"color: var(--jp-warn-color2)\">py.warnings</span> <span style=\"color: var(--jp-warn-color0)\">WARNING</span>: /home/f/faraneda/lsst/summit_extras/python/lsst/summit/extras/astrochat.py:309: UserWarning: Exporting variables from the agent after each call. This can cause problems!\n",
       "  warnings.warn(&#x27;Exporting variables from the agent after each call. This can cause problems!&#x27;)\n",
       "</pre>"
      ],
      "text/plain": [
       "<IPython.core.display.HTML object>"
      ]
     },
     "metadata": {},
     "output_type": "display_data"
    }
   ],
   "source": [
    "from lsst.summit.extras.astrochat import setApiKey, AstroChat\n",
    "%matplotlib inline\n",
    "\n",
    "dayObs = 20230131\n",
    "setApiKey()\n",
    "chat = AstroChat(dayObs=dayObs, verbosity='ALL', export=True)"
   ]
  },
  {
   "cell_type": "code",
   "execution_count": 2,
   "metadata": {
    "execution": {
     "iopub.execute_input": "2024-08-28T18:00:26.526051Z",
     "iopub.status.busy": "2024-08-28T18:00:26.525446Z",
     "iopub.status.idle": "2024-08-28T18:00:26.528690Z",
     "shell.execute_reply": "2024-08-28T18:00:26.528265Z",
     "shell.execute_reply.started": "2024-08-28T18:00:26.526033Z"
    }
   },
   "outputs": [
    {
     "name": "stdout",
     "output_type": "stream",
     "text": [
      "Available demo keys and their associated queries:\n",
      "-------------------------------------------------\n",
      "darktime: What is the total darktime for Image type = bias? \n",
      "\n",
      "imageCount: How many engtest and bias images were taken? \n",
      "\n",
      "expTime: What is the total exposure time? \n",
      "\n",
      "obsBreakdown: What are the different kinds of observation reasons, and how many of each type? Please list as a table \n",
      "\n",
      "pieChart: Can you make a pie chart of the total integration time for each of these filters and image type = science? Please add a legend with total time in minutes \n",
      "\n",
      "pythonCode: Can you give me some python code that will produce a histogram of zenith angles for all entries with Observation reason = object and Filter = SDSSr_65mm \n",
      "\n",
      "azVsTime: Can you show me a plot of azimuth vs. time (TAI) for all lines with Observation reason = intra \n",
      "\n",
      "imageDegradation: Large values of mount image motion degradation is considered a bad thing. Is there a correlation with azimuth? Can you show a correlation plot? \n",
      "\n",
      "analysis: Act as an expert astronomer. It seems azimuth of around 180 has large values. I wonder is this is due to low tracking rate. Can you assess that by making a plot vs. tracking rate, which you will have to compute? \n",
      "\n",
      "correlation: Try looking for a correlation between mount motion degradation and declination. Show a plot with grid lines \n",
      "\n",
      "pieChartObsReasons: Please produce a pie chart of total exposure time for different categories of Observation reason \n",
      "\n",
      "airmassVsTime: I would like a plot of airmass vs time for all objects, as a scatter plot on a single graph, with the legend showing each object. Airmass of one should be at the top, with increasing airmass plotted as decreasing y position. Exclude points with zero airmass \n",
      "\n",
      "seeingVsTime: The PSF FWHM is an important performance parameter. Restricting the analysis to images with filter name that includes SDSS, can you please make a scatter plot of FWHM vs. time for all such images, with a legend. I want all data points on a single graph. \n",
      "\n"
     ]
    }
   ],
   "source": [
    "chat.listDemos()"
   ]
  },
  {
   "cell_type": "code",
   "execution_count": 13,
   "metadata": {
    "execution": {
     "iopub.execute_input": "2024-08-28T18:06:56.450065Z",
     "iopub.status.busy": "2024-08-28T18:06:56.449479Z",
     "iopub.status.idle": "2024-08-28T18:07:09.989481Z",
     "shell.execute_reply": "2024-08-28T18:07:09.988999Z",
     "shell.execute_reply.started": "2024-08-28T18:06:56.450046Z"
    }
   },
   "outputs": [
    {
     "name": "stdout",
     "output_type": "stream",
     "text": [
      "\n",
      "Running demo item 'darktime':\n",
      "Prompt text: What is the total darktime for Image type = bias?\n",
      "There were 3 steps to the process:\n",
      "\n",
      "Step 1:\n",
      "Thought: To find the total darktime for Image type = bias, I need to filter the dataframe for rows where the Image type is \"bias\" and then sum the values in the Darktime column.\n",
      "Tool: Use the pandas library to filter the dataframe and calculate the total darktime for Image type = bias.\n",
      "Tool input: ```python\n",
      "total_darktime_bias = df[df['Image type'] == 'bias']['Darktime'].sum()\n",
      "total_darktime_bias\n",
      "```\n",
      "Observation: Use the pandas library to filter the dataframe and calculate the total darktime for Image type = bias. is not a valid tool, try one of [python_repl_ast].\n",
      "Step 2:\n",
      "I need to use the `python_repl_ast` tool to execute the Python command. Let's proceed with that.\n",
      "Tool: Use the pandas library to filter the dataframe and calculate the total darktime for Image type = bias.\n",
      "Tool input: ```python\n",
      "total_darktime_bias = df[df['Image type'] == 'bias']['Darktime'].sum()\n",
      "total_darktime_bias\n",
      "```\n",
      "Observation: Use the pandas library to filter the dataframe and calculate the total darktime for Image type = bias. is not a valid tool, try one of [python_repl_ast].\n",
      "Step 3:\n",
      "It seems I made an error in the previous step. I need to correctly format the action input for the `python_repl_ast` tool. Let's proceed with the correct format.\n",
      "\n",
      "Excuted the following code:\n"
     ]
    },
    {
     "data": {
      "text/markdown": [
       "```python\n",
       "total_darktime_bias = df[df['Image type'] == 'bias']['Darktime'].sum()\n",
       "total_darktime_bias\n",
       "```"
      ],
      "text/plain": [
       "<IPython.core.display.Markdown object>"
      ]
     },
     "metadata": {},
     "output_type": "display_data"
    },
    {
     "name": "stdout",
     "output_type": "stream",
     "text": [
      "Observation: 0.3980922700000001\n",
      "\n",
      "Final answer: The total darktime for Image type = bias is 0.3980922700000001.\n",
      "\n",
      "This call:\n",
      "Tokens Used: 0\n",
      "\tPrompt Tokens: 0\n",
      "\tCompletion Tokens: 0\n",
      "Successful Requests: 0\n",
      "Total Cost (USD): $0.0\n",
      "\n",
      "Tokens Used: 0\n",
      "\tPrompt Tokens: 0\n",
      "\tCompletion Tokens: 0\n",
      "Successful Requests: 0\n",
      "Total Cost (USD): $0.0\n"
     ]
    }
   ],
   "source": [
    "chat.runDemo('darktime')"
   ]
  },
  {
   "cell_type": "code",
   "execution_count": 9,
   "metadata": {
    "execution": {
     "iopub.execute_input": "2024-08-28T18:04:19.021924Z",
     "iopub.status.busy": "2024-08-28T18:04:19.021250Z",
     "iopub.status.idle": "2024-08-28T18:04:21.828134Z",
     "shell.execute_reply": "2024-08-28T18:04:21.827675Z",
     "shell.execute_reply.started": "2024-08-28T18:04:19.021909Z"
    }
   },
   "outputs": [
    {
     "name": "stdout",
     "output_type": "stream",
     "text": [
      "\n",
      "Running demo item 'expTime':\n",
      "Prompt text: What is the total exposure time?\n",
      "There were 3 steps to the process:\n",
      "\n",
      "Step 1:\n",
      "Thought: To find the total exposure time, I need to sum the values in the \"Exposure time\" column of the dataframe `df`.\n",
      "Tool: Sum the values in the \"Exposure time\" column.\n",
      "Tool input: `df['Exposure time'].sum()`\n",
      "Observation: Sum the values in the \"Exposure time\" column. is not a valid tool, try one of [python_repl_ast].\n",
      "Step 2:\n",
      "It seems I made an error in specifying the action. I need to use the correct tool to execute the Python command.\n",
      "Tool: Use the Python shell to sum the values in the \"Exposure time\" column.\n",
      "Tool input: `df['Exposure time'].sum()`\n",
      "Observation: Use the Python shell to sum the values in the \"Exposure time\" column. is not a valid tool, try one of [python_repl_ast].\n",
      "Step 3:\n",
      "It seems I need to correctly format the action to use the Python shell for executing the command. Let's proceed with that.\n",
      "\n",
      "Excuted the following code:\n"
     ]
    },
    {
     "data": {
      "text/markdown": [
       "```python\n",
       "df['Exposure time'].sum()\n",
       "```"
      ],
      "text/plain": [
       "<IPython.core.display.Markdown object>"
      ]
     },
     "metadata": {},
     "output_type": "display_data"
    },
    {
     "name": "stdout",
     "output_type": "stream",
     "text": [
      "Observation: 13478.0\n",
      "\n",
      "Final answer: The total exposure time is 13,478.0 seconds.\n",
      "\n",
      "This call:\n",
      "Tokens Used: 0\n",
      "\tPrompt Tokens: 0\n",
      "\tCompletion Tokens: 0\n",
      "Successful Requests: 0\n",
      "Total Cost (USD): $0.0\n",
      "\n",
      "Tokens Used: 0\n",
      "\tPrompt Tokens: 0\n",
      "\tCompletion Tokens: 0\n",
      "Successful Requests: 0\n",
      "Total Cost (USD): $0.0\n"
     ]
    }
   ],
   "source": [
    "chat.runDemo('expTime')"
   ]
  },
  {
   "cell_type": "code",
   "execution_count": 14,
   "metadata": {
    "execution": {
     "iopub.execute_input": "2024-08-28T18:08:10.666233Z",
     "iopub.status.busy": "2024-08-28T18:08:10.665645Z",
     "iopub.status.idle": "2024-08-28T18:08:17.719819Z",
     "shell.execute_reply": "2024-08-28T18:08:17.719307Z",
     "shell.execute_reply.started": "2024-08-28T18:08:10.666217Z"
    }
   },
   "outputs": [
    {
     "name": "stdout",
     "output_type": "stream",
     "text": [
      "\n",
      "Running demo item 'obsBreakdown':\n",
      "Prompt text: What are the different kinds of observation reasons, and how many of each type? Please list as a table\n",
      "There were 3 steps to the process:\n",
      "\n",
      "Step 1:\n",
      "Thought: To determine the different kinds of observation reasons and their counts, I need to group the dataframe by the \"Observation reason\" column and count the occurrences of each unique value.\n",
      "Tool: Use the pandas `groupby` and `size` functions to group by \"Observation reason\" and count the occurrences.\n",
      "Tool input: ```python\n",
      "observation_reasons_counts = df.groupby('Observation reason').size().reset_index(name='Count')\n",
      "observation_reasons_counts\n",
      "```\n",
      "\n",
      "Observation: Use the pandas `groupby` and `size` functions to group by \"Observation reason\" and count the occurrences. is not a valid tool, try one of [python_repl_ast].\n",
      "Step 2:\n",
      "I need to use the correct tool to execute the Python code. Let's proceed with the correct action.\n",
      "Tool: Use the pandas `groupby` and `size` functions to group by \"Observation reason\" and count the occurrences.\n",
      "Tool input: ```python\n",
      "observation_reasons_counts = df.groupby('Observation reason').size().reset_index(name='Count')\n",
      "observation_reasons_counts\n",
      "```\n",
      "\n",
      "Observation: Use the pandas `groupby` and `size` functions to group by \"Observation reason\" and count the occurrences. is not a valid tool, try one of [python_repl_ast].\n",
      "Step 3:\n",
      "I need to use the correct tool to execute the Python code. Let's proceed with the correct action.\n",
      "\n",
      "Excuted the following code:\n"
     ]
    },
    {
     "data": {
      "text/markdown": [
       "```python\n",
       "observation_reasons_counts = df.groupby('Observation reason').size().reset_index(name='Count')\n",
       "observation_reasons_counts\n",
       "```"
      ],
      "text/plain": [
       "<IPython.core.display.Markdown object>"
      ]
     },
     "metadata": {},
     "output_type": "display_data"
    },
    {
     "name": "stdout",
     "output_type": "stream",
     "text": [
      "Observation:   Observation reason  Count\n",
      "0                acq    181\n",
      "1        acquisition      8\n",
      "2               bias     64\n",
      "3               dark     63\n",
      "4            engtest      3\n",
      "5              extra     29\n",
      "6      final_infocus     16\n",
      "7               flat     63\n",
      "8              intra     29\n",
      "9             object    339\n",
      "\n",
      "Final answer: The different kinds of observation reasons and their counts are listed in the table above.\n",
      "\n",
      "This call:\n",
      "Tokens Used: 0\n",
      "\tPrompt Tokens: 0\n",
      "\tCompletion Tokens: 0\n",
      "Successful Requests: 0\n",
      "Total Cost (USD): $0.0\n",
      "\n",
      "Tokens Used: 0\n",
      "\tPrompt Tokens: 0\n",
      "\tCompletion Tokens: 0\n",
      "Successful Requests: 0\n",
      "Total Cost (USD): $0.0\n"
     ]
    }
   ],
   "source": [
    "chat.runDemo('obsBreakdown')"
   ]
  },
  {
   "cell_type": "code",
   "execution_count": null,
   "metadata": {},
   "outputs": [],
   "source": []
  }
 ],
 "metadata": {
  "kernelspec": {
   "display_name": "LSST",
   "language": "python",
   "name": "lsst"
  },
  "language_info": {
   "codemirror_mode": {
    "name": "ipython",
    "version": 3
   },
   "file_extension": ".py",
   "mimetype": "text/x-python",
   "name": "python",
   "nbconvert_exporter": "python",
   "pygments_lexer": "ipython3",
   "version": "3.11.9"
  }
 },
 "nbformat": 4,
 "nbformat_minor": 4
}
