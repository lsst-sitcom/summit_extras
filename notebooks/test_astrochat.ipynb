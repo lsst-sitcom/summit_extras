{
 "cells": [
  {
   "cell_type": "code",
   "execution_count": null,
   "metadata": {
    "execution": {
     "iopub.execute_input": "2025-02-11T18:21:07.318767Z",
     "iopub.status.busy": "2025-02-11T18:21:07.318470Z",
     "iopub.status.idle": "2025-02-11T18:21:15.734801Z",
     "shell.execute_reply": "2025-02-11T18:21:15.734399Z",
     "shell.execute_reply.started": "2025-02-11T18:21:07.318752Z"
    }
   },
   "outputs": [],
   "source": [
    "from lsst.summit.extras.astrochat import set_api_key, AstroChat\n",
    "%matplotlib inline\n",
    "\n",
    "day_obs = 20230131\n",
    "set_api_key()\n",
    "chat = AstroChat(day_obs=day_obs, verbosity='ALL', export=True)"
   ]
  },
  {
   "cell_type": "code",
   "execution_count": null,
   "metadata": {
    "execution": {
     "iopub.execute_input": "2025-02-11T17:15:18.339409Z",
     "iopub.status.busy": "2025-02-11T17:15:18.338777Z",
     "iopub.status.idle": "2025-02-11T17:15:18.342669Z",
     "shell.execute_reply": "2025-02-11T17:15:18.342172Z",
     "shell.execute_reply.started": "2025-02-11T17:15:18.339383Z"
    }
   },
   "outputs": [],
   "source": [
    "chat.list_demos()"
   ]
  },
  {
   "cell_type": "code",
   "execution_count": null,
   "metadata": {
    "execution": {
     "iopub.execute_input": "2025-02-11T18:21:32.813638Z",
     "iopub.status.busy": "2025-02-11T18:21:32.813080Z",
     "iopub.status.idle": "2025-02-11T18:21:36.970575Z",
     "shell.execute_reply": "2025-02-11T18:21:36.970152Z",
     "shell.execute_reply.started": "2025-02-11T18:21:32.813619Z"
    }
   },
   "outputs": [],
   "source": [
    "chat.run_demo('correlation')"
   ]
  },
  {
   "cell_type": "code",
   "execution_count": null,
   "metadata": {},
   "outputs": [],
   "source": [
    "chat.runDemo('expTime')"
   ]
  },
  {
   "cell_type": "code",
   "execution_count": null,
   "metadata": {},
   "outputs": [],
   "source": [
    "chat.runDemo('obsBreakdown')"
   ]
  },
  {
   "cell_type": "code",
   "execution_count": null,
   "metadata": {
    "execution": {
     "iopub.execute_input": "2025-02-11T17:21:42.908633Z",
     "iopub.status.busy": "2025-02-11T17:21:42.908144Z",
     "iopub.status.idle": "2025-02-11T17:21:45.986527Z",
     "shell.execute_reply": "2025-02-11T17:21:45.986003Z",
     "shell.execute_reply.started": "2025-02-11T17:21:42.908616Z"
    }
   },
   "outputs": [],
   "source": [
    "chat.run('What is the most recent summary state of the LSST SAL HVAC system query?')"
   ]
  },
  {
   "cell_type": "code",
   "execution_count": null,
   "metadata": {},
   "outputs": [],
   "source": []
  }
 ],
 "metadata": {
  "kernelspec": {
   "display_name": "LSST",
   "language": "python",
   "name": "lsst"
  },
  "language_info": {
   "codemirror_mode": {
    "name": "ipython",
    "version": 3
   },
   "file_extension": ".py",
   "mimetype": "text/x-python",
   "name": "python",
   "nbconvert_exporter": "python",
   "pygments_lexer": "ipython3",
   "version": "3.11.11"
  }
 },
 "nbformat": 4,
 "nbformat_minor": 4
}
