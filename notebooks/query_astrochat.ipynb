{
 "cells": [
  {
   "cell_type": "code",
   "execution_count": 2,
   "metadata": {
    "execution": {
     "iopub.execute_input": "2025-02-25T23:48:50.781693Z",
     "iopub.status.busy": "2025-02-25T23:48:50.781366Z",
     "iopub.status.idle": "2025-02-25T23:49:20.985209Z",
     "shell.execute_reply": "2025-02-25T23:49:20.984739Z",
     "shell.execute_reply.started": "2025-02-25T23:48:50.781674Z"
    }
   },
   "outputs": [
    {
     "data": {
      "text/html": [
       "<pre style=\"margin: 0.1em;\n",
       "padding-left: 0.25em;\n",
       "border-left-style: solid;\n",
       "font-family: var(--jp-code-font-family);\n",
       "font-size: var(--jp-code-font-size);\n",
       "line-height: var(--jp-code-line-height);\n",
       "\"><span style=\"color: var(--jp-warn-color2)\">lsst.summit.extras.astrochat</span> <span style=\"color: var(--jp-warn-color0)\">WARNING</span>: OPENAI_API_KEY is already set. Overwriting with key from ~/.openaikey.txt</pre>"
      ],
      "text/plain": [
       "<IPython.core.display.HTML object>"
      ]
     },
     "metadata": {},
     "output_type": "display_data"
    },
    {
     "data": {
      "text/html": [
       "<pre style=\"margin: 0.1em;\n",
       "padding-left: 0.25em;\n",
       "border-left-style: solid;\n",
       "font-family: var(--jp-code-font-family);\n",
       "font-size: var(--jp-code-font-size);\n",
       "line-height: var(--jp-code-line-height);\n",
       "\"><span style=\"color: var(--jp-warn-color2)\">lsst.summit.extras.astrochat</span> <span style=\"color: var(--jp-warn-color0)\">WARNING</span>: Observing metadata at staff-rsp is currently copied by hand by Merlin and will not be updated in realtime</pre>"
      ],
      "text/plain": [
       "<IPython.core.display.HTML object>"
      ]
     },
     "metadata": {},
     "output_type": "display_data"
    },
    {
     "data": {
      "text/html": [
       "<pre style=\"margin: 0.1em;\n",
       "padding-left: 0.25em;\n",
       "border-left-style: solid;\n",
       "font-family: var(--jp-code-font-family);\n",
       "font-size: var(--jp-code-font-size);\n",
       "line-height: var(--jp-code-line-height);\n",
       "\"><span style=\"color: var(--jp-warn-color2)\">lsst.summit.extras.astrochat</span> <span style=\"color: var(--jp-info-color0)\">INFO</span>: Annoy index loaded from /home/t/tjamba/lsst/summit_extras/data/annoyIndex.ann</pre>"
      ],
      "text/plain": [
       "<IPython.core.display.HTML object>"
      ]
     },
     "metadata": {},
     "output_type": "display_data"
    },
    {
     "data": {
      "text/html": [
       "<pre style=\"margin: 0.1em;\n",
       "padding-left: 0.25em;\n",
       "border-left-style: solid;\n",
       "font-family: var(--jp-code-font-family);\n",
       "font-size: var(--jp-code-font-size);\n",
       "line-height: var(--jp-code-line-height);\n",
       "\"><span style=\"color: var(--jp-warn-color2)\">lsst.summit.extras.astrochat</span> <span style=\"color: var(--jp-info-color0)\">INFO</span>: Descriptions loaded from /home/t/tjamba/lsst/summit_extras/data/annoyIndex.yaml</pre>"
      ],
      "text/plain": [
       "<IPython.core.display.HTML object>"
      ]
     },
     "metadata": {},
     "output_type": "display_data"
    },
    {
     "data": {
      "text/html": [
       "<pre style=\"margin: 0.1em;\n",
       "padding-left: 0.25em;\n",
       "border-left-style: solid;\n",
       "font-family: var(--jp-code-font-family);\n",
       "font-size: var(--jp-code-font-size);\n",
       "line-height: var(--jp-code-line-height);\n",
       "\"><span style=\"color: var(--jp-warn-color2)\">lsst.summit.extras.astrochat</span> <span style=\"color: var(--jp-info-color0)\">INFO</span>: No embedding index found at /home/t/tjamba/lsst/summit_extras/data/chromaQueryIndex. Run rebuildDatabase() to create it.</pre>"
      ],
      "text/plain": [
       "<IPython.core.display.HTML object>"
      ]
     },
     "metadata": {},
     "output_type": "display_data"
    },
    {
     "name": "stdout",
     "output_type": "stream",
     "text": [
      "QueryFinder result: Matching query found: SELECT \"name\" FROM \"efd\".\"autogen\".\"lsst.sal.ATSpectrograph.logevent_reportedFilterPosition\" WHERE  time > :dashboardTime: (Similarity: 0.23)\n",
      "> Entering new AgentExecutor chain...\n",
      "\n",
      "Step 1:\n",
      "No thought available.\n",
      "Tool: QueryFinder\n",
      "Tool input: exposure time\n",
      "Observation: Matching query found: SELECT \"name\" FROM \"efd\".\"autogen\".\"lsst.sal.ATSpectrograph.logevent_reportedFilterPosition\" WHERE  time > :dashboardTime: (Similarity: 0.23)\n",
      "\n",
      "Final Answer: I found a query related to exposure time, although the similarity is not very high:\n",
      "\n",
      "```sql\n",
      "SELECT \"name\" FROM \"efd\".\"autogen\".\"lsst.sal.ATSpectrograph.logevent_reportedFilterPosition\" WHERE time > :dashboardTime:\n",
      "```\n",
      "\n",
      "This query selects the name from the `lsst.sal.ATSpectrograph.logevent_reportedFilterPosition` table in the `efd` database where the time is greater than a specified dashboard time. It's not directly querying exposure time, but it may be related to settings that are adjusted based on exposure time. If you need a more specific query regarding exposure time, please let me know.\n",
      "> Finished chain.\n",
      "\n",
      "This call cost: $0.000, session total: $0.000\n",
      "None\n",
      "> Entering new AgentExecutor chain...\n",
      "\n",
      "Step 1:\n",
      "No thought available.\n",
      "Tool: YAMLTopicFinder\n",
      "Tool input: data\n",
      "Observation: Best EFDB Topic: MTVMS_miscellaneous\n",
      "\n",
      "Final Answer: The best EFDB (Engineering Facility Database) Topic based on the description of \"data\" is `MTVMS_miscellaneous`.\n",
      "> Finished chain.\n",
      "\n",
      "This call cost: $0.010, session total: $0.010\n",
      "None\n"
     ]
    }
   ],
   "source": [
    "from lsst.summit.extras.astrochat import AstroChat, setApiKey\n",
    "\n",
    "setApiKey(\"~/.openaikey.txt\")\n",
    "chat = AstroChat(dayObs=20230131)\n",
    "\n",
    "#Manually rebuilding chromaDB\n",
    "# chat.toolkit.queryFinder.rebuildDatabase(force=True)\n",
    "\n",
    "print(chat.run(\"Find a query related to exposure time\"))\n",
    "\n",
    "print(chat.run(\"Find the EFDB_Topic based on the description of data.\"))"
   ]
  },
  {
   "cell_type": "code",
   "execution_count": null,
   "metadata": {},
   "outputs": [],
   "source": [
    "# Rebuild ChromaDB index\n",
    "chat.toolkit.queryFinder.rebuildDatabase(force=True)\n",
    "# Output: \"Rebuilding query embedding database.\" and \"Query embedding database rebuilt and cached.\"\n",
    "\n",
    "# Rebuild Annoy index\n",
    "chat.toolkit.rebuildAnnoyIndex(force=True)\n",
    "# Output: \"Rebuilding Annoy index.\" and \"Annoy index rebuilt and cached.\"\n",
    "\n",
    "print(chat.run(\"Find a query related to exposure time\"))\n",
    "# Should return a matching query\n",
    "\n",
    "print(chat.run(\"Find the EFDB_Topic based on the description of data.\"))\n",
    "# Should return a topic"
   ]
  },
  {
   "cell_type": "code",
   "execution_count": null,
   "metadata": {},
   "outputs": [],
   "source": [
    "chat.toolkit.queryFinder.rebuildDatabase(force=True)\n",
    "# Output: \"Rebuilding query embedding database.\" and \"Stored X embeddings in ...\"\n",
    "result = chat.run(\"Find a query related to exposure time\")\n",
    "print(result)  # Should now return a matching query"
   ]
  },
  {
   "cell_type": "code",
   "execution_count": null,
   "metadata": {},
   "outputs": [],
   "source": []
  }
 ],
 "metadata": {
  "kernelspec": {
   "display_name": "LSST",
   "language": "python",
   "name": "lsst"
  },
  "language_info": {
   "codemirror_mode": {
    "name": "ipython",
    "version": 3
   },
   "file_extension": ".py",
   "mimetype": "text/x-python",
   "name": "python",
   "nbconvert_exporter": "python",
   "pygments_lexer": "ipython3",
   "version": "3.11.11"
  }
 },
 "nbformat": 4,
 "nbformat_minor": 4
}
