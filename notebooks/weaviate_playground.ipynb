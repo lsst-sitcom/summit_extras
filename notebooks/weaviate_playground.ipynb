{
 "cells": [
  {
   "cell_type": "code",
   "execution_count": 1,
   "id": "c487fe45-56bf-472e-b699-fef5f14d45a4",
   "metadata": {
    "execution": {
     "iopub.execute_input": "2024-10-09T15:27:03.177838Z",
     "iopub.status.busy": "2024-10-09T15:27:03.177719Z",
     "iopub.status.idle": "2024-10-09T15:27:05.621579Z",
     "shell.execute_reply": "2024-10-09T15:27:05.621124Z",
     "shell.execute_reply.started": "2024-10-09T15:27:03.177825Z"
    }
   },
   "outputs": [],
   "source": [
    "# Necessary packages\n",
    "import weaviate\n",
    "import weaviate.classes as wvc\n",
    "from weaviate.classes.init import Auth\n",
    "from weaviate.exceptions import (\n",
    "    WeaviateStartUpError,\n",
    "    UnexpectedStatusCodeException,\n",
    "    AuthenticationFailedException\n",
    ")\n",
    "from dotenv import load_dotenv\n",
    "import os\n",
    "import json\n",
    "from pprint import pprint\n",
    "from langchain_openai import OpenAIEmbeddings\n",
    "from langchain_weaviate.vectorstores import WeaviateVectorStore\n",
    "from langchain.text_splitter import RecursiveCharacterTextSplitter\n",
    "from langchain_openai import OpenAIEmbeddings\n",
    "from langchain.document_loaders import JSONLoader\n",
    "from langchain_weaviate.vectorstores import WeaviateVectorStore"
   ]
  },
  {
   "cell_type": "code",
   "execution_count": 2,
   "id": "91555bea-e499-4080-8503-e35818c06d4b",
   "metadata": {
    "execution": {
     "iopub.execute_input": "2024-10-09T15:27:05.645426Z",
     "iopub.status.busy": "2024-10-09T15:27:05.645299Z",
     "iopub.status.idle": "2024-10-09T15:27:05.649573Z",
     "shell.execute_reply": "2024-10-09T15:27:05.649210Z",
     "shell.execute_reply.started": "2024-10-09T15:27:05.645413Z"
    }
   },
   "outputs": [],
   "source": [
    "# Set Weaviate and OpenAI credentials\n",
    "load_dotenv()\n",
    "httpHost = os.getenv(\"WCD_HTTP_HOST\")\n",
    "grpcHost = os.getenv(\"WCD_GRPC_HOST\")\n",
    "wcdApiKey = os.getenv(\"WCD_API_KEY\")\n",
    "openaiApiKey = os.getenv(\"OPENAI_API_KEY\")"
   ]
  },
  {
   "cell_type": "code",
   "execution_count": 3,
   "id": "3e566664-15d5-4449-a298-d5a324071652",
   "metadata": {
    "execution": {
     "iopub.execute_input": "2024-10-09T15:27:08.337797Z",
     "iopub.status.busy": "2024-10-09T15:27:08.337219Z",
     "iopub.status.idle": "2024-10-09T15:27:08.341330Z",
     "shell.execute_reply": "2024-10-09T15:27:08.340960Z",
     "shell.execute_reply.started": "2024-10-09T15:27:08.337778Z"
    }
   },
   "outputs": [],
   "source": [
    "# Function to create the weaviate client that connects to cloud cluster\n",
    "def create_weaviate_client():\n",
    "    try:\n",
    "        # Initialize the Weaviate client connection to the cloud cluster\n",
    "        #client = weaviate.connect_to_custom(\n",
    "        client = weaviate.connect_to_weaviate_cloud(\n",
    "            # http_host=httpHost,\n",
    "            # http_port=443,\n",
    "            # http_secure=True,\n",
    "            # grpc_host=grpcHost,\n",
    "            # grpc_port=443,\n",
    "            # grpc_secure=True,\n",
    "            cluster_url=httpHost,\n",
    "            auth_credentials=Auth.api_key(wcdApiKey),\n",
    "            headers={\n",
    "                \"X-OpenAI-Api-Key\": openaiApiKey\n",
    "            }\n",
    "        )\n",
    "        \n",
    "        # Check if the client is ready to accept queries\n",
    "        if client.is_ready():\n",
    "            print(\"Weaviate connection established successfully!\")\n",
    "            return client\n",
    "        else:\n",
    "            raise WeaviateStartUpError(\"Weaviate is not ready.\")\n",
    "    # Handle exceptions\n",
    "    except WeaviateStartUpError as e:\n",
    "        print(f\"Weaviate failed to start: {e}\")\n",
    "    except UnexpectedStatusCodeException as e:\n",
    "        print(f\"Received unexpected status code: {e}\")\n",
    "    except AuthenticationFailedException as e:\n",
    "        print(f\"Authentication failed: {e}\")\n",
    "    except Exception as e:\n",
    "        print(f\"An unexpected error occurred: {e}\")"
   ]
  },
  {
   "cell_type": "code",
   "execution_count": 4,
   "id": "81540fd4-a8bd-433f-90ef-7bafa301dfc8",
   "metadata": {
    "execution": {
     "iopub.execute_input": "2024-10-09T15:27:13.711401Z",
     "iopub.status.busy": "2024-10-09T15:27:13.710972Z",
     "iopub.status.idle": "2024-10-09T15:27:14.449256Z",
     "shell.execute_reply": "2024-10-09T15:27:14.448750Z",
     "shell.execute_reply.started": "2024-10-09T15:27:13.711385Z"
    }
   },
   "outputs": [
    {
     "name": "stdout",
     "output_type": "stream",
     "text": [
      "Weaviate connection established successfully!\n"
     ]
    }
   ],
   "source": [
    "# Use the function to create the Weaviate client\n",
    "client = create_weaviate_client()"
   ]
  },
  {
   "cell_type": "code",
   "execution_count": 5,
   "id": "887ae60e-a0fb-45d2-a1b9-ba482bbd8b08",
   "metadata": {
    "execution": {
     "iopub.execute_input": "2024-10-09T15:27:17.453382Z",
     "iopub.status.busy": "2024-10-09T15:27:17.452687Z",
     "iopub.status.idle": "2024-10-09T15:27:17.829927Z",
     "shell.execute_reply": "2024-10-09T15:27:17.829459Z",
     "shell.execute_reply.started": "2024-10-09T15:27:17.453365Z"
    }
   },
   "outputs": [],
   "source": [
    "# clear collection before creating it\n",
    "client.collections.delete(\"SAL_Interfaces_AstroChat\")\n",
    "\n",
    "# lets make sure its vectorizer is what the one we want\n",
    "collection = client.collections.create(\n",
    "    name=\"SAL_Interfaces_AstroChat\",\n",
    "    vectorizer_config=wvc.config.Configure.Vectorizer.text2vec_openai(),\n",
    "    generative_config=wvc.config.Configure.Generative.openai(),\n",
    ")"
   ]
  },
  {
   "cell_type": "code",
   "execution_count": 6,
   "id": "5ef80697-876a-4c41-971a-49452278e787",
   "metadata": {
    "execution": {
     "iopub.execute_input": "2024-10-09T15:27:22.754365Z",
     "iopub.status.busy": "2024-10-09T15:27:22.753910Z",
     "iopub.status.idle": "2024-10-09T15:27:23.416431Z",
     "shell.execute_reply": "2024-10-09T15:27:23.415889Z",
     "shell.execute_reply.started": "2024-10-09T15:27:22.754348Z"
    }
   },
   "outputs": [
    {
     "name": "stderr",
     "output_type": "stream",
     "text": [
      "IOPub data rate exceeded.\n",
      "The Jupyter server will temporarily stop sending output\n",
      "to the client in order to avoid crashing it.\n",
      "To change this limit, set the config variable\n",
      "`--ServerApp.iopub_data_rate_limit`.\n",
      "\n",
      "Current values:\n",
      "ServerApp.iopub_data_rate_limit=1000000.0 (bytes/sec)\n",
      "ServerApp.rate_limit_window=3.0 (secs)\n",
      "\n"
     ]
    }
   ],
   "source": [
    "#text_splitter = RecursiveCharacterTextSplitter(chunk_size=300, chunk_overlap=50)\n",
    "\n",
    "# import JSON file\n",
    "loader = JSONLoader(file_path=\"./data/flat_sal_interfaces.json\",\n",
    "                    jq_schema='.[]',\n",
    "                    text_content=False\n",
    "                )\n",
    "data = loader.load()\n",
    "pprint(data)\n",
    "# docs = loader.load_and_split(text_splitter)\n",
    "# print(f\"GOT {len(docs)} docs for SAL Interfaces\")\n",
    "\n",
    "# db = WeaviateVectorStore.from_documents(\n",
    "#     docs,\n",
    "#     embedding=OpenAIEmbeddings(),\n",
    "#     client=client\n",
    "# )\n",
    "\n",
    "# retriever = WeaviateVectorStore.from_documents(\n",
    "#         docs,\n",
    "#         embedding=OpenAIEmbeddings(),\n",
    "#         client=client,\n",
    "#         index_name=\"SAL_Interfaces_AstroChat\",\n",
    "#         text_key=\"text\"\n",
    "#     ).as_retriever(\n",
    "#         search_type=\"similarity\", search_kwargs={\"k\": 6}\n",
    "# )"
   ]
  },
  {
   "cell_type": "code",
   "execution_count": null,
   "id": "3ae2d802-d11d-4371-92a5-5421160d3540",
   "metadata": {},
   "outputs": [],
   "source": [
    "# Example querie to weaviate\n",
    "salInterfaces = client.collections.get(\"SAL_Interfaces_AstroChat\")\n",
    "\n",
    "response = salInterfaces.query.near_text(\n",
    "    query=\"wind speed\",\n",
    "    limit=2\n",
    ")\n",
    "\n",
    "pprint.pp(response.objects[0].properties)"
   ]
  },
  {
   "cell_type": "code",
   "execution_count": null,
   "id": "716336b8-4d84-4eff-9844-bc4d2d641cb3",
   "metadata": {},
   "outputs": [],
   "source": [
    "# Example generative querie to weaviate\n",
    "salInterfaces = client.collections.get(\"SAL_Interfaces_AstroChat\")\n",
    "response = salInterfaces.generate.near_text(\n",
    "    query=\"ataos\",\n",
    "    limit=2,\n",
    "    grouped_task=\"what is ATAOS?\"\n",
    ")\n",
    "\n",
    "print(response.generated)"
   ]
  },
  {
   "cell_type": "code",
   "execution_count": null,
   "id": "f808f103-76d3-4ab5-9922-0aab4e8ca7de",
   "metadata": {},
   "outputs": [],
   "source": [
    "# EXTRA: Code used to flatten the YAML file into a JSON - First attempt was to use YAML\n",
    "# Convert the YAML to a JSON (then tried to use JSON)\n",
    "with open('sal_interfaces.yaml', 'r') as file:\n",
    "    yaml_data = yaml.safe_load(file)\n",
    "\n",
    "jsonData = json.dumps(yaml_data, indent=4)\n",
    "\n",
    "# Save JSON if needed\n",
    "with open('sal_interfaces.json', 'w') as jsonFile:\n",
    "    jsonFile.write(jsonData)\n",
    "\n",
    "\n",
    "# Nested JSON not useful for weaviate - Flatten the JSON - Final attempt\n",
    "with open('sal_interfaces.json', 'r') as f:\n",
    "    data = json.load(f)\n",
    "\n",
    "# List to store the flattened items\n",
    "flattenedItems = []\n",
    "\n",
    "\n",
    "def process_subsystem(subsystem_name, subsystem_data):\n",
    "    '''\n",
    "    Function to process and flatten each subsystem's commands, events, or telemetry\n",
    "    '''\n",
    "    # Check if it's a command, event, or telemetry set\n",
    "    for key, value in subsystem_data.items():\n",
    "        if isinstance(value, dict) and ('SALCommandSet' in key or 'SALEventSet' in key or 'SALTelemetrySet' in key):\n",
    "            commandsOrEvents = value.get('SALCommand') or value.get('SALEvent') or value.get('SALTelemetry')\n",
    "\n",
    "            # Check if commandsOrEvents is a list (properly structured)\n",
    "            if isinstance(commandsOrEvents, list):\n",
    "                # Iterate over each command/event/telemetry and extract items\n",
    "                for commandOrEvents in commandsOrEvents:\n",
    "                    if isinstance(commandOrEvents, dict):  # Ensure it's a dictionary\n",
    "                        topic = commandOrEvents.get('EFDB_Topic')\n",
    "                        description = commandOrEvents.get('Description')\n",
    "                        items = commandOrEvents.get('item', [])\n",
    "\n",
    "                        # If 'item' is a list, process each one\n",
    "                        if isinstance(items, list):\n",
    "                            for item in items:\n",
    "                                if isinstance(item, dict):\n",
    "                                    flattenedItems.append({\n",
    "                                        'Subsystem': subsystem_name,\n",
    "                                        'EFDB_Topic': topic,\n",
    "                                        'Description': description,\n",
    "                                        'EFDB_Name': item.get('EFDB_Name'),\n",
    "                                        'Item_Description': item.get('Description'),\n",
    "                                        'Count': item.get('Count'),\n",
    "                                        'IDL_Type': item.get('IDL_Type'),\n",
    "                                        'Units': item.get('Units')\n",
    "                                    })\n",
    "                        # If 'item' is a single dict, process it directly\n",
    "                        elif isinstance(items, dict):\n",
    "                            flattenedItems.append({\n",
    "                                'Subsystem': subsystem_name,\n",
    "                                'EFDB_Topic': topic,\n",
    "                                'Description': description,\n",
    "                                'EFDB_Name': items.get('EFDB_Name'),\n",
    "                                'Item_Description': items.get('Description'),\n",
    "                                'Count': items.get('Count'),\n",
    "                                'IDL_Type': items.get('IDL_Type'),\n",
    "                                'Units': items.get('Units')\n",
    "                            })\n",
    "\n",
    "# Process each subsystem in the JSON file\n",
    "for subsystem, content in data.items():\n",
    "    process_subsystem(subsystem, content)\n",
    "\n",
    "# Save the flattened data into a new JSON file\n",
    "with open('simplified_sal_interfaces_with_item_description.json', 'w') as f:\n",
    "    json.dump(flattenedItems, f, indent=4)"
   ]
  }
 ],
 "metadata": {
  "kernelspec": {
   "display_name": "LSST",
   "language": "python",
   "name": "lsst"
  },
  "language_info": {
   "codemirror_mode": {
    "name": "ipython",
    "version": 3
   },
   "file_extension": ".py",
   "mimetype": "text/x-python",
   "name": "python",
   "nbconvert_exporter": "python",
   "pygments_lexer": "ipython3",
   "version": "3.11.9"
  }
 },
 "nbformat": 4,
 "nbformat_minor": 5
}
