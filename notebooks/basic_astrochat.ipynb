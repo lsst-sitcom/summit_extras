{
 "cells": [
  {
   "cell_type": "code",
   "execution_count": 1,
   "metadata": {
    "execution": {
     "iopub.execute_input": "2025-02-25T23:52:04.060009Z",
     "iopub.status.busy": "2025-02-25T23:52:04.059713Z",
     "iopub.status.idle": "2025-02-25T23:52:27.993244Z",
     "shell.execute_reply": "2025-02-25T23:52:27.992780Z",
     "shell.execute_reply.started": "2025-02-25T23:52:04.059994Z"
    }
   },
   "outputs": [
    {
     "data": {
      "text/html": [
       "<pre style=\"margin: 0.1em;\n",
       "padding-left: 0.25em;\n",
       "border-left-style: solid;\n",
       "font-family: var(--jp-code-font-family);\n",
       "font-size: var(--jp-code-font-size);\n",
       "line-height: var(--jp-code-line-height);\n",
       "\"><span style=\"color: var(--jp-warn-color2)\">lsst.summit.extras.astrochat</span> <span style=\"color: var(--jp-warn-color0)\">WARNING</span>: Observing metadata at staff-rsp is currently copied by hand by Merlin and will not be updated in realtime</pre>"
      ],
      "text/plain": [
       "<IPython.core.display.HTML object>"
      ]
     },
     "metadata": {},
     "output_type": "display_data"
    },
    {
     "data": {
      "text/html": [
       "<pre style=\"margin: 0.1em;\n",
       "padding-left: 0.25em;\n",
       "border-left-style: solid;\n",
       "font-family: var(--jp-code-font-family);\n",
       "font-size: var(--jp-code-font-size);\n",
       "line-height: var(--jp-code-line-height);\n",
       "\"><span style=\"color: var(--jp-warn-color2)\">lsst.summit.extras.astrochat</span> <span style=\"color: var(--jp-info-color0)\">INFO</span>: Annoy index loaded from /home/t/tjamba/lsst/summit_extras/data/annoyIndex.ann</pre>"
      ],
      "text/plain": [
       "<IPython.core.display.HTML object>"
      ]
     },
     "metadata": {},
     "output_type": "display_data"
    },
    {
     "data": {
      "text/html": [
       "<pre style=\"margin: 0.1em;\n",
       "padding-left: 0.25em;\n",
       "border-left-style: solid;\n",
       "font-family: var(--jp-code-font-family);\n",
       "font-size: var(--jp-code-font-size);\n",
       "line-height: var(--jp-code-line-height);\n",
       "\"><span style=\"color: var(--jp-warn-color2)\">lsst.summit.extras.astrochat</span> <span style=\"color: var(--jp-info-color0)\">INFO</span>: Descriptions loaded from /home/t/tjamba/lsst/summit_extras/data/annoyIndex.yaml</pre>"
      ],
      "text/plain": [
       "<IPython.core.display.HTML object>"
      ]
     },
     "metadata": {},
     "output_type": "display_data"
    },
    {
     "data": {
      "text/html": [
       "<pre style=\"margin: 0.1em;\n",
       "padding-left: 0.25em;\n",
       "border-left-style: solid;\n",
       "font-family: var(--jp-code-font-family);\n",
       "font-size: var(--jp-code-font-size);\n",
       "line-height: var(--jp-code-line-height);\n",
       "\"><span style=\"color: var(--jp-warn-color2)\">lsst.summit.extras.astrochat</span> <span style=\"color: var(--jp-info-color0)\">INFO</span>: No embedding index found at /home/t/tjamba/lsst/summit_extras/data/chromaQueryIndex. Run rebuildDatabase() to create it.</pre>"
      ],
      "text/plain": [
       "<IPython.core.display.HTML object>"
      ]
     },
     "metadata": {},
     "output_type": "display_data"
    },
    {
     "name": "stdout",
     "output_type": "stream",
     "text": [
      "> Entering new AgentExecutor chain...\n",
      "\n",
      "Step 1:\n",
      "No thought available.\n",
      "Tool: PythonRepl\n",
      "Tool input: sum([10, 25, 48, 60, 75])\n",
      "\n",
      "Used Python code:\n"
     ]
    },
    {
     "data": {
      "text/markdown": [
       "```python\n",
       "sum([10, 25, 48, 60, 75])\n",
       "```"
      ],
      "text/plain": [
       "<IPython.core.display.Markdown object>"
      ]
     },
     "metadata": {},
     "output_type": "display_data"
    },
    {
     "name": "stdout",
     "output_type": "stream",
     "text": [
      "Observation: 218\n",
      "\n",
      "Final Answer: The sum of the numbers in the list [10, 25, 48, 60, 75] is 218.\n",
      "> Finished chain.\n",
      "\n",
      "This call cost: $0.000, session total: $0.000\n"
     ]
    }
   ],
   "source": [
    "from lsst.summit.extras.astrochat import AstroChat, setApiKey\n",
    "\n",
    "setApiKey(\"~/.openaikey.txt\")\n",
    "chat = AstroChat(dayObs=20230131)\n",
    "\n",
    "#Manually rebuilding chromaDB\n",
    "# chat.toolkit.queryFinder.rebuildDatabase(force=True)\n",
    "\n",
    "chat.run('Calculate the sum of the numbers in the list [10, 25, 48, 60, 75]')"
   ]
  },
  {
   "cell_type": "code",
   "execution_count": null,
   "metadata": {},
   "outputs": [],
   "source": []
  }
 ],
 "metadata": {
  "kernelspec": {
   "display_name": "LSST",
   "language": "python",
   "name": "lsst"
  },
  "language_info": {
   "codemirror_mode": {
    "name": "ipython",
    "version": 3
   },
   "file_extension": ".py",
   "mimetype": "text/x-python",
   "name": "python",
   "nbconvert_exporter": "python",
   "pygments_lexer": "ipython3",
   "version": "3.11.11"
  }
 },
 "nbformat": 4,
 "nbformat_minor": 4
}
