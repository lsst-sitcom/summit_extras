{
 "cells": [
  {
   "cell_type": "code",
   "execution_count": null,
   "metadata": {},
   "outputs": [],
   "source": [
    "import astrochat\n",
    "%matplotlib inline\n",
    "\n",
    "# If you want to run the main function:\n",
    "#astrochat.main()\n",
    "\n",
    "# Or you can directly create and use objects. For example:\n",
    "# Create a Boss instance with the default python_worker.\n",
    "boss = astrochat.Boss(workers=[astrochat.python_worker])\n",
    "\n",
    "# Execute a task interactively:\n",
    "result = boss.plan_and_execute(\n",
    "    task=\"Calculate the potential energy of an object with mass=10kg at 6m. then show the results energy vs altitude in a graph\",\n",
    "    worker_hint=\"python_worker\",\n",
    "    use_tool=True\n",
    ")\n",
    "print(\"Interactive result:\", result)"
   ]
  }
 ],
 "metadata": {
  "kernelspec": {
   "display_name": "DSPy-dantic-ai",
   "language": "python",
   "name": "python3"
  },
  "language_info": {
   "codemirror_mode": {
    "name": "ipython",
    "version": 3
   },
   "file_extension": ".py",
   "mimetype": "text/x-python",
   "name": "python",
   "nbconvert_exporter": "python",
   "pygments_lexer": "ipython3",
   "version": "3.12.8"
  }
 },
 "nbformat": 4,
 "nbformat_minor": 2
}
